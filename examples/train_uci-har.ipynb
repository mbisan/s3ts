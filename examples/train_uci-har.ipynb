{
 "cells": [
  {
   "cell_type": "code",
   "execution_count": 1,
   "metadata": {},
   "outputs": [],
   "source": [
    "import os\n",
    "os.chdir(\"../\")"
   ]
  },
  {
   "cell_type": "code",
   "execution_count": 2,
   "metadata": {},
   "outputs": [],
   "source": [
    "import numpy as np\n",
    "import torch"
   ]
  },
  {
   "cell_type": "code",
   "execution_count": 3,
   "metadata": {},
   "outputs": [],
   "source": [
    "from storage.har_datasets import HARTHDataset, UCI_HARDataset, split_by_test_subject, sts_medoids\n",
    "from s3ts.api.dms.har_datasets import LDFDataset, DFDataset\n",
    "from storage.label_mappings import *\n",
    "from s3ts.api.nets.methods import create_model_from_DM, train_model, test_model"
   ]
  },
  {
   "cell_type": "code",
   "execution_count": 4,
   "metadata": {},
   "outputs": [],
   "source": [
    "from torchvision.transforms import Normalize"
   ]
  },
  {
   "cell_type": "code",
   "execution_count": 5,
   "metadata": {},
   "outputs": [
    {
     "data": {
      "text/plain": [
       "{1: 'WALKING',\n",
       " 2: 'WALKING_UPSTAIRS',\n",
       " 3: 'WALKING_DOWNSTAIRS',\n",
       " 4: 'SITTING',\n",
       " 5: 'STANDING',\n",
       " 6: 'LAYING'}"
      ]
     },
     "execution_count": 5,
     "metadata": {},
     "output_type": "execute_result"
    }
   ],
   "source": [
    "UCI_HAR_LABELS"
   ]
  },
  {
   "cell_type": "code",
   "execution_count": 6,
   "metadata": {},
   "outputs": [
    {
     "data": {
      "text/plain": [
       "657344"
      ]
     },
     "execution_count": 6,
     "metadata": {},
     "output_type": "execute_result"
    }
   ],
   "source": [
    "label_mapping = np.zeros(7)\n",
    "label_mapping[1:] = np.arange(6)\n",
    "\n",
    "ds = UCI_HARDataset(\"./datasets/UCI-HAR/\", split=\"both\", wsize=64, normalize=True, label_mapping=label_mapping)\n",
    "len(ds)"
   ]
  },
  {
   "cell_type": "code",
   "execution_count": 7,
   "metadata": {},
   "outputs": [
    {
     "name": "stdout",
     "output_type": "stream",
     "text": [
      "Loading cached dissimilarity frames if available...\n"
     ]
    }
   ],
   "source": [
    "if not os.path.exists(\"./datasets/UCI-HAR/meds.npz\"):\n",
    "    meds = sts_medoids(ds, n=500)\n",
    "    with open(\"./datasets/UCI-HAR/meds.npz\", \"wb\") as f:\n",
    "        np.save(f, meds)\n",
    "else:\n",
    "    meds = np.load(\"./datasets/UCI-HAR/meds.npz\")\n",
    "\n",
    "dfds = DFDataset(ds, patterns=meds, w=0.1, dm_transform=None, ram=False)"
   ]
  },
  {
   "cell_type": "code",
   "execution_count": 8,
   "metadata": {},
   "outputs": [],
   "source": [
    "DM = []\n",
    "\n",
    "np.random.seed(42)\n",
    "for i in np.random.choice(np.arange(len(dfds)), 500):\n",
    "    dm, _, _ = dfds[i]\n",
    "    DM.append(dm)\n",
    "\n",
    "DM = torch.stack(DM)\n",
    "\n",
    "dm_transform = Normalize(mean=DM.mean(dim=[0, 2, 3]), std=DM.std(dim=[0, 2, 3]))"
   ]
  },
  {
   "cell_type": "code",
   "execution_count": 9,
   "metadata": {},
   "outputs": [],
   "source": [
    "dfds.dm_transform = dm_transform"
   ]
  },
  {
   "cell_type": "code",
   "execution_count": 10,
   "metadata": {},
   "outputs": [],
   "source": [
    "data_split = split_by_test_subject(ds, [21, 22, 23, 24, 25, 26, 27, 28, 29])\n",
    "\n",
    "dm = LDFDataset(dfds, data_split=data_split, batch_size=64, random_seed=42, num_workers=8)"
   ]
  },
  {
   "cell_type": "code",
   "execution_count": 11,
   "metadata": {},
   "outputs": [
    {
     "name": "stdout",
     "output_type": "stream",
     "text": [
      "188096\n",
      "469248\n"
     ]
    }
   ],
   "source": [
    "print(len(dm.ds_test))\n",
    "print(len(dm.ds_train))"
   ]
  },
  {
   "cell_type": "code",
   "execution_count": 12,
   "metadata": {},
   "outputs": [
    {
     "name": "stdout",
     "output_type": "stream",
     "text": [
      "Input shape:  torch.Size([1, 6, 64, 64])\n",
      "Latent shape:  torch.Size([1, 40, 4, 64])\n"
     ]
    }
   ],
   "source": [
    "model = create_model_from_DM(dm, name=None, \n",
    "        dsrc=\"img\", arch=\"cnn\", task=\"cls\")"
   ]
  },
  {
   "cell_type": "code",
   "execution_count": null,
   "metadata": {},
   "outputs": [],
   "source": [
    "model, data = train_model(dm, model, max_epochs=2)\n",
    "print(data)"
   ]
  }
 ],
 "metadata": {
  "kernelspec": {
   "display_name": "ssstsc",
   "language": "python",
   "name": "python3"
  },
  "language_info": {
   "codemirror_mode": {
    "name": "ipython",
    "version": 3
   },
   "file_extension": ".py",
   "mimetype": "text/x-python",
   "name": "python",
   "nbconvert_exporter": "python",
   "pygments_lexer": "ipython3",
   "version": "3.10.13"
  }
 },
 "nbformat": 4,
 "nbformat_minor": 2
}
