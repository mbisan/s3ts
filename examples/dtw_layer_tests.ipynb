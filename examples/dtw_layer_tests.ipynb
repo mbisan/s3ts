{
 "cells": [
  {
   "cell_type": "code",
   "execution_count": 1,
   "metadata": {},
   "outputs": [],
   "source": [
    "import os\n",
    "os.chdir(\"/home/mbikandi/Documents/s3ts/\")"
   ]
  },
  {
   "cell_type": "code",
   "execution_count": 2,
   "metadata": {},
   "outputs": [],
   "source": [
    "from storage.har_datasets import STSDataset, StreamingTimeSeries, StreamingTimeSeriesCopy"
   ]
  },
  {
   "cell_type": "code",
   "execution_count": 3,
   "metadata": {},
   "outputs": [
    {
     "name": "stdout",
     "output_type": "stream",
     "text": [
      "Loading 'BasicMotions' from cache...\n",
      "(80, 6, 100) (80,) 4\n",
      "(6, 6000) (6000,)\n"
     ]
    }
   ],
   "source": [
    "from s3ts.api.ucr import load_ucr_classification\n",
    "from s3ts.api.ts2sts import finite_random_STS\n",
    "import numpy as np\n",
    "import torch\n",
    "\n",
    "X, Y, mapping = load_ucr_classification(\"BasicMotions\")\n",
    "#X, Y, mapping = load_ucr_classification(\"GunPoint\")\n",
    "print(X.shape, Y.shape, len(np.unique(Y)))\n",
    "\n",
    "STS, SCS = finite_random_STS(X, Y, length=60)\n",
    "print(STS.shape, SCS.shape)"
   ]
  },
  {
   "cell_type": "code",
   "execution_count": 4,
   "metadata": {},
   "outputs": [],
   "source": [
    "ds = StreamingTimeSeries(STS, SCS, wsize=64, wstride=1)"
   ]
  },
  {
   "cell_type": "code",
   "execution_count": 5,
   "metadata": {},
   "outputs": [],
   "source": [
    "from pytorch_lightning import LightningDataModule\n",
    "from torch.utils.data import DataLoader\n",
    "\n",
    "class LSTSDataset(LightningDataModule):\n",
    "\n",
    "    \"\"\" Data module for the experiments. \"\"\"\n",
    "\n",
    "    STS: np.ndarray     # data stream\n",
    "    SCS: np.ndarray     # class stream\n",
    "    DM: np.ndarray      # dissimilarity matrix\n",
    "\n",
    "    data_split: dict[str: np.ndarray]    \n",
    "                        # train / val / test split\n",
    "    batch_size: int     # dataloader batch size\n",
    "\n",
    "    def __init__(self,\n",
    "            stsds: StreamingTimeSeries,    \n",
    "            data_split: dict, batch_size: int, \n",
    "            random_seed: int = 42, \n",
    "            num_workers: int = 1\n",
    "            ) -> None:\n",
    "\n",
    "        # save parameters as attributes\n",
    "        super().__init__()\n",
    "        \n",
    "        self.batch_size = batch_size\n",
    "        self.random_seed = random_seed\n",
    "        self.num_workers = num_workers\n",
    "\n",
    "        self.stsds = stsds\n",
    "        self.wdw_len = self.stsds.wsize\n",
    "        self.wdw_str = self.stsds.wstride\n",
    "        self.sts_str = False\n",
    "\n",
    "        # gather dataset info   \n",
    "        self.n_dims = self.stsds.STS.shape[1]\n",
    "        self.n_classes = len(np.unique(self.stsds.SCS))\n",
    "\n",
    "        # convert to tensors\n",
    "        if not torch.is_tensor(self.stsds.STS):\n",
    "            self.stsds.STS = torch.from_numpy(self.stsds.STS).to(torch.float32)\n",
    "        if not torch.is_tensor(self.stsds.SCS):\n",
    "            self.stsds.SCS = torch.from_numpy(self.stsds.SCS).to(torch.int64)\n",
    "\n",
    "        train_indices = self.stsds.indices[data_split[\"train\"](self.stsds.indices)]\n",
    "        test_indices = self.stsds.indices[data_split[\"test\"](self.stsds.indices)]\n",
    "        val_indices = self.stsds.indices[data_split[\"val\"](self.stsds.indices)]\n",
    "\n",
    "        self.ds_train = StreamingTimeSeriesCopy(self.stsds, train_indices)\n",
    "        self.ds_test = StreamingTimeSeriesCopy(self.stsds, test_indices)\n",
    "        self.ds_val = StreamingTimeSeriesCopy(self.stsds, val_indices)\n",
    "        \n",
    "    def train_dataloader(self) -> DataLoader:\n",
    "        \"\"\" Returns the training DataLoader. \"\"\"\n",
    "        return DataLoader(self.ds_train, batch_size=self.batch_size, \n",
    "            num_workers=self.num_workers, shuffle=True,\n",
    "            pin_memory=True, persistent_workers=True)\n",
    "\n",
    "    def val_dataloader(self) -> DataLoader:\n",
    "        \"\"\" Returns the validation DataLoader. \"\"\"\n",
    "        return DataLoader(self.ds_val, batch_size=self.batch_size, \n",
    "            num_workers=self.num_workers, shuffle=False,\n",
    "            pin_memory=True, persistent_workers=True)\n",
    "\n",
    "    def test_dataloader(self) -> DataLoader:\n",
    "        \"\"\" Returns the test DataLoader. \"\"\"\n",
    "        return DataLoader(self.ds_test, batch_size=self.batch_size, \n",
    "            num_workers=self.num_workers, shuffle=False,\n",
    "            pin_memory=True, persistent_workers=True)\n",
    "    \n",
    "    def predict_dataloader(self) -> DataLoader:\n",
    "        \"\"\" Returns the test DataLoader. \"\"\"\n",
    "        return DataLoader(self.ds_test, batch_size=self.batch_size, \n",
    "            num_workers=self.num_workers, shuffle=False,\n",
    "            pin_memory=True, persistent_workers=True)"
   ]
  },
  {
   "cell_type": "code",
   "execution_count": 6,
   "metadata": {},
   "outputs": [],
   "source": [
    "indices_shuffled = np.arange(ds.indices.shape[0])\n",
    "np.random.shuffle(indices_shuffled)\n",
    "\n",
    "data_split = {\n",
    "    \"train\": lambda x: np.isin(x, indices_shuffled[:5000]),\n",
    "    \"val\": lambda x: np.isin(x, indices_shuffled[5000:5200]),\n",
    "    \"test\": lambda x: np.isin(x, indices_shuffled[5200:]),\n",
    "}\n",
    "\n",
    "dm = LSTSDataset(ds, data_split=data_split, batch_size=16, random_seed=42, num_workers=8)"
   ]
  },
  {
   "cell_type": "code",
   "execution_count": 7,
   "metadata": {},
   "outputs": [
    {
     "data": {
      "text/plain": [
       "torch.return_types.min(\n",
       "values=tensor(-1),\n",
       "indices=tensor(2))"
      ]
     },
     "execution_count": 7,
     "metadata": {},
     "output_type": "execute_result"
    }
   ],
   "source": [
    "torch.stack([torch.tensor(1), torch.tensor(0), torch.tensor(-1)], dim=0).min(0)"
   ]
  },
  {
   "cell_type": "code",
   "execution_count": 8,
   "metadata": {},
   "outputs": [],
   "source": [
    "from typing import List"
   ]
  },
  {
   "cell_type": "code",
   "execution_count": 9,
   "metadata": {},
   "outputs": [],
   "source": [
    "@torch.jit.script\n",
    "def dtw_compute(dist_tensor: torch.Tensor, grad_tensor: torch.Tensor, w: float) -> None:\n",
    "    for i in range(1, dist_tensor.shape[2]):\n",
    "        for j in range(1, dist_tensor.shape[3]):\n",
    "            # elements has shape (n, k, 3)\n",
    "            elements = torch.stack([w * dist_tensor[:, :, i, j-1], dist_tensor[:, :, i-1, j], w * dist_tensor[:, :, i-1, j-1]], dim=2)\n",
    "\n",
    "            value, id = torch.min(elements, dim=2) # shape (n, k)\n",
    "\n",
    "            dist_tensor[:,:, i, j] += value\n",
    "\n",
    "            grad_tensor[id==0][:, :, i, j] += w * grad_tensor[id==0][:, :, i, j-1]\n",
    "\n",
    "@torch.jit.script\n",
    "def dtw_compute_by_index(dist_tensor: torch.Tensor, grad_tensor: torch.Tensor, w: float, n: int, s: int) -> None:\n",
    "    for i in range(1, dist_tensor.shape[2]):\n",
    "        for j in range(1, dist_tensor.shape[3]):\n",
    "            elements = torch.stack([w * dist_tensor[n, s, i, j-1], dist_tensor[n, s, i-1, j], w * dist_tensor[n, s, i-1, j-1]], dim=0)\n",
    "\n",
    "            value, id = torch.min(elements, dim=0)\n",
    "\n",
    "            dist_tensor[n, s, i, j] += value\n",
    "\n",
    "            grad_tensor[id==0][n, s, i, j] += w * grad_tensor[id==0][n, s, i, j-1]\n",
    "\n",
    "@torch.jit.script\n",
    "def torch_dtw_fast(x: torch.Tensor, y: torch.Tensor, w: float):\n",
    "    # shape of x (n, dim, x_len) y (m, dim, y_len)    \n",
    "    # performs convolution-like operation, for each kernel the DF\n",
    "    # (of shape (kernel_size, T)) is computed, then summed across channels\n",
    "    # x has shape (batch, c, time_dimension)\n",
    "\n",
    "    # compute pairwise diffs (squared)\n",
    "    p_diff = x[:,None,:,None,:] - y[None,:,:,:,None] # shape (n, n_kernel, d, Kernel_size, T)\n",
    "    euc_d = torch.square(p_diff).sum(2) # shape (n, n_kernel, kernel_size, T)\n",
    "\n",
    "    # compute dtw\n",
    "    DTW = euc_d.clone()\n",
    "    DTW[:,:,0,:] = torch.cumsum(DTW[:,:,0,:], dim=2)\n",
    "    DTW[:,:,:,0] = torch.cumsum(DTW[:,:,:,0], dim=2)\n",
    "\n",
    "    # p_diff contains the partial derivatives of DTW[n, k, i, j] wrt K[k, d, i] (dims (n, k, d, i, j))\n",
    "    p_diff = p_diff / euc_d[:,:, None, :, :]\n",
    "\n",
    "\n",
    "    dtw_compute(DTW, p_diff, w)\n",
    "    # futures : List[torch.jit.Future[None]] = []\n",
    "    # for n in range(DTW.shape[0]):\n",
    "    #     for s in range(DTW.shape[1]):\n",
    "    #         futures.append(torch.jit.fork(dtw_compute_by_index, DTW, p_diff, w, n, s))\n",
    "\n",
    "    # for future in futures:\n",
    "    #     torch.jit.wait(future)\n",
    "\n",
    "    return DTW, p_diff\n",
    "\n",
    "class torch_dtw(torch.autograd.Function):\n",
    "\n",
    "    @staticmethod\n",
    "    def forward(x, y, w):\n",
    "        DTW, p_diff = torch_dtw_fast(x, y, w)\n",
    "        return DTW, p_diff\n",
    "    \n",
    "    @staticmethod\n",
    "    def setup_context(ctx, inputs, output):\n",
    "        DTW, p_diff = output\n",
    "        ctx.save_for_backward(p_diff)\n",
    "    \n",
    "    @staticmethod\n",
    "    def backward(ctx, dtw_grad, p_diff_grad):\n",
    "        p_diff, = ctx.saved_tensors\n",
    "        mult = (p_diff * dtw_grad[:,:,None,:,:])\n",
    "        return mult.mean(dim=(1, 3)), mult.mean(dim=(0, 4)), None"
   ]
  },
  {
   "cell_type": "code",
   "execution_count": 10,
   "metadata": {},
   "outputs": [],
   "source": [
    "class DTWLayer(torch.nn.Module):\n",
    "    def __init__(self, n_patts, d_patts, l_patts, rho: float = 1) -> None:\n",
    "        super().__init__()\n",
    "\n",
    "        self.w: torch.float32 = rho ** (1/l_patts)\n",
    "        self.patts = torch.nn.Parameter(torch.randn(n_patts, d_patts, l_patts))\n",
    "    \n",
    "    def forward(self, x):\n",
    "        return torch_dtw.apply(x, self.patts, self.w)[0][:,:,:,32:]"
   ]
  },
  {
   "cell_type": "code",
   "execution_count": 11,
   "metadata": {},
   "outputs": [],
   "source": [
    "model = torch.nn.Sequential(\n",
    "    DTWLayer(4, 6, 32, rho=0.1),\n",
    "    torch.nn.Conv2d(in_channels=4, out_channels=16, kernel_size=5),\n",
    "    torch.nn.ReLU(),\n",
    "    torch.nn.MaxPool2d(kernel_size=2),\n",
    "    torch.nn.Conv2d(in_channels=16, out_channels=32, kernel_size=5),\n",
    "    torch.nn.ReLU(),\n",
    "    torch.nn.MaxPool2d(kernel_size=2),\n",
    "    torch.nn.Flatten(),\n",
    "    torch.nn.Linear(in_features=25*32, out_features=4),\n",
    ")"
   ]
  },
  {
   "cell_type": "code",
   "execution_count": 12,
   "metadata": {},
   "outputs": [
    {
     "name": "stdout",
     "output_type": "stream",
     "text": [
      "1.1872924097533364\n",
      "0.8363539590033127\n",
      "0.7477372908862278\n",
      "0.6628572295591669\n",
      "0.6628452954168844\n",
      "0.5621694421642807\n",
      "0.5015846479286268\n",
      "0.511883558988764\n",
      "0.4571291205132663\n",
      "0.41824773532672993\n",
      "0.42157743193667296\n",
      "0.346192832578058\n",
      "0.39021544445390455\n",
      "0.35206524985556076\n",
      "0.3421195693386411\n",
      "0.33909602297476\n",
      "0.3297881559140281\n",
      "0.34462633612038246\n"
     ]
    },
    {
     "ename": "KeyboardInterrupt",
     "evalue": "",
     "output_type": "error",
     "traceback": [
      "\u001b[0;31m---------------------------------------------------------------------------\u001b[0m",
      "\u001b[0;31mKeyboardInterrupt\u001b[0m                         Traceback (most recent call last)",
      "\u001b[1;32m/home/mbikandi/Documents/s3ts/examples/dtw_layer_tests.ipynb Celda 12\u001b[0m line \u001b[0;36m1\n\u001b[1;32m      <a href='vscode-notebook-cell:/home/mbikandi/Documents/s3ts/examples/dtw_layer_tests.ipynb#X12sZmlsZQ%3D%3D?line=8'>9</a>\u001b[0m cl \u001b[39m=\u001b[39m batch[\u001b[39m\"\u001b[39m\u001b[39mlabel\u001b[39m\u001b[39m\"\u001b[39m][:, \u001b[39m-\u001b[39m\u001b[39m1\u001b[39m]\n\u001b[1;32m     <a href='vscode-notebook-cell:/home/mbikandi/Documents/s3ts/examples/dtw_layer_tests.ipynb#X12sZmlsZQ%3D%3D?line=10'>11</a>\u001b[0m optimizer\u001b[39m.\u001b[39mzero_grad()\n\u001b[0;32m---> <a href='vscode-notebook-cell:/home/mbikandi/Documents/s3ts/examples/dtw_layer_tests.ipynb#X12sZmlsZQ%3D%3D?line=11'>12</a>\u001b[0m out \u001b[39m=\u001b[39m model(data)\n\u001b[1;32m     <a href='vscode-notebook-cell:/home/mbikandi/Documents/s3ts/examples/dtw_layer_tests.ipynb#X12sZmlsZQ%3D%3D?line=12'>13</a>\u001b[0m loss \u001b[39m=\u001b[39m criterion(out, cl)\n\u001b[1;32m     <a href='vscode-notebook-cell:/home/mbikandi/Documents/s3ts/examples/dtw_layer_tests.ipynb#X12sZmlsZQ%3D%3D?line=14'>15</a>\u001b[0m loss\u001b[39m.\u001b[39mbackward()\n",
      "File \u001b[0;32m~/miniconda3/envs/ssstsc/lib/python3.10/site-packages/torch/nn/modules/module.py:1501\u001b[0m, in \u001b[0;36mModule._call_impl\u001b[0;34m(self, *args, **kwargs)\u001b[0m\n\u001b[1;32m   1496\u001b[0m \u001b[39m# If we don't have any hooks, we want to skip the rest of the logic in\u001b[39;00m\n\u001b[1;32m   1497\u001b[0m \u001b[39m# this function, and just call forward.\u001b[39;00m\n\u001b[1;32m   1498\u001b[0m \u001b[39mif\u001b[39;00m \u001b[39mnot\u001b[39;00m (\u001b[39mself\u001b[39m\u001b[39m.\u001b[39m_backward_hooks \u001b[39mor\u001b[39;00m \u001b[39mself\u001b[39m\u001b[39m.\u001b[39m_backward_pre_hooks \u001b[39mor\u001b[39;00m \u001b[39mself\u001b[39m\u001b[39m.\u001b[39m_forward_hooks \u001b[39mor\u001b[39;00m \u001b[39mself\u001b[39m\u001b[39m.\u001b[39m_forward_pre_hooks\n\u001b[1;32m   1499\u001b[0m         \u001b[39mor\u001b[39;00m _global_backward_pre_hooks \u001b[39mor\u001b[39;00m _global_backward_hooks\n\u001b[1;32m   1500\u001b[0m         \u001b[39mor\u001b[39;00m _global_forward_hooks \u001b[39mor\u001b[39;00m _global_forward_pre_hooks):\n\u001b[0;32m-> 1501\u001b[0m     \u001b[39mreturn\u001b[39;00m forward_call(\u001b[39m*\u001b[39;49margs, \u001b[39m*\u001b[39;49m\u001b[39m*\u001b[39;49mkwargs)\n\u001b[1;32m   1502\u001b[0m \u001b[39m# Do not call functions when jit is used\u001b[39;00m\n\u001b[1;32m   1503\u001b[0m full_backward_hooks, non_full_backward_hooks \u001b[39m=\u001b[39m [], []\n",
      "File \u001b[0;32m~/miniconda3/envs/ssstsc/lib/python3.10/site-packages/torch/nn/modules/container.py:217\u001b[0m, in \u001b[0;36mSequential.forward\u001b[0;34m(self, input)\u001b[0m\n\u001b[1;32m    215\u001b[0m \u001b[39mdef\u001b[39;00m \u001b[39mforward\u001b[39m(\u001b[39mself\u001b[39m, \u001b[39minput\u001b[39m):\n\u001b[1;32m    216\u001b[0m     \u001b[39mfor\u001b[39;00m module \u001b[39min\u001b[39;00m \u001b[39mself\u001b[39m:\n\u001b[0;32m--> 217\u001b[0m         \u001b[39minput\u001b[39m \u001b[39m=\u001b[39m module(\u001b[39minput\u001b[39;49m)\n\u001b[1;32m    218\u001b[0m     \u001b[39mreturn\u001b[39;00m \u001b[39minput\u001b[39m\n",
      "File \u001b[0;32m~/miniconda3/envs/ssstsc/lib/python3.10/site-packages/torch/nn/modules/module.py:1501\u001b[0m, in \u001b[0;36mModule._call_impl\u001b[0;34m(self, *args, **kwargs)\u001b[0m\n\u001b[1;32m   1496\u001b[0m \u001b[39m# If we don't have any hooks, we want to skip the rest of the logic in\u001b[39;00m\n\u001b[1;32m   1497\u001b[0m \u001b[39m# this function, and just call forward.\u001b[39;00m\n\u001b[1;32m   1498\u001b[0m \u001b[39mif\u001b[39;00m \u001b[39mnot\u001b[39;00m (\u001b[39mself\u001b[39m\u001b[39m.\u001b[39m_backward_hooks \u001b[39mor\u001b[39;00m \u001b[39mself\u001b[39m\u001b[39m.\u001b[39m_backward_pre_hooks \u001b[39mor\u001b[39;00m \u001b[39mself\u001b[39m\u001b[39m.\u001b[39m_forward_hooks \u001b[39mor\u001b[39;00m \u001b[39mself\u001b[39m\u001b[39m.\u001b[39m_forward_pre_hooks\n\u001b[1;32m   1499\u001b[0m         \u001b[39mor\u001b[39;00m _global_backward_pre_hooks \u001b[39mor\u001b[39;00m _global_backward_hooks\n\u001b[1;32m   1500\u001b[0m         \u001b[39mor\u001b[39;00m _global_forward_hooks \u001b[39mor\u001b[39;00m _global_forward_pre_hooks):\n\u001b[0;32m-> 1501\u001b[0m     \u001b[39mreturn\u001b[39;00m forward_call(\u001b[39m*\u001b[39;49margs, \u001b[39m*\u001b[39;49m\u001b[39m*\u001b[39;49mkwargs)\n\u001b[1;32m   1502\u001b[0m \u001b[39m# Do not call functions when jit is used\u001b[39;00m\n\u001b[1;32m   1503\u001b[0m full_backward_hooks, non_full_backward_hooks \u001b[39m=\u001b[39m [], []\n",
      "\u001b[1;32m/home/mbikandi/Documents/s3ts/examples/dtw_layer_tests.ipynb Celda 12\u001b[0m line \u001b[0;36m9\n\u001b[1;32m      <a href='vscode-notebook-cell:/home/mbikandi/Documents/s3ts/examples/dtw_layer_tests.ipynb#X12sZmlsZQ%3D%3D?line=7'>8</a>\u001b[0m \u001b[39mdef\u001b[39;00m \u001b[39mforward\u001b[39m(\u001b[39mself\u001b[39m, x):\n\u001b[0;32m----> <a href='vscode-notebook-cell:/home/mbikandi/Documents/s3ts/examples/dtw_layer_tests.ipynb#X12sZmlsZQ%3D%3D?line=8'>9</a>\u001b[0m     \u001b[39mreturn\u001b[39;00m torch_dtw\u001b[39m.\u001b[39;49mapply(x, \u001b[39mself\u001b[39;49m\u001b[39m.\u001b[39;49mpatts, \u001b[39mself\u001b[39;49m\u001b[39m.\u001b[39;49mw)[\u001b[39m0\u001b[39m][:,:,:,\u001b[39m32\u001b[39m:]\n",
      "File \u001b[0;32m~/miniconda3/envs/ssstsc/lib/python3.10/site-packages/torch/autograd/function.py:506\u001b[0m, in \u001b[0;36mFunction.apply\u001b[0;34m(cls, *args, **kwargs)\u001b[0m\n\u001b[1;32m    503\u001b[0m \u001b[39mif\u001b[39;00m \u001b[39mnot\u001b[39;00m torch\u001b[39m.\u001b[39m_C\u001b[39m.\u001b[39m_are_functorch_transforms_active():\n\u001b[1;32m    504\u001b[0m     \u001b[39m# See NOTE: [functorch vjp and autograd interaction]\u001b[39;00m\n\u001b[1;32m    505\u001b[0m     args \u001b[39m=\u001b[39m _functorch\u001b[39m.\u001b[39mutils\u001b[39m.\u001b[39munwrap_dead_wrappers(args)\n\u001b[0;32m--> 506\u001b[0m     \u001b[39mreturn\u001b[39;00m \u001b[39msuper\u001b[39;49m()\u001b[39m.\u001b[39;49mapply(\u001b[39m*\u001b[39;49margs, \u001b[39m*\u001b[39;49m\u001b[39m*\u001b[39;49mkwargs)  \u001b[39m# type: ignore[misc]\u001b[39;00m\n\u001b[1;32m    508\u001b[0m \u001b[39mif\u001b[39;00m \u001b[39mcls\u001b[39m\u001b[39m.\u001b[39msetup_context \u001b[39m==\u001b[39m _SingleLevelFunction\u001b[39m.\u001b[39msetup_context:\n\u001b[1;32m    509\u001b[0m     \u001b[39mraise\u001b[39;00m \u001b[39mRuntimeError\u001b[39;00m(\n\u001b[1;32m    510\u001b[0m         \u001b[39m'\u001b[39m\u001b[39mIn order to use an autograd.Function with functorch transforms \u001b[39m\u001b[39m'\u001b[39m\n\u001b[1;32m    511\u001b[0m         \u001b[39m'\u001b[39m\u001b[39m(vmap, grad, jvp, jacrev, ...), it must override the setup_context \u001b[39m\u001b[39m'\u001b[39m\n\u001b[1;32m    512\u001b[0m         \u001b[39m'\u001b[39m\u001b[39mstaticmethod. For more details, please see \u001b[39m\u001b[39m'\u001b[39m\n\u001b[1;32m    513\u001b[0m         \u001b[39m'\u001b[39m\u001b[39mhttps://pytorch.org/docs/master/notes/extending.func.html\u001b[39m\u001b[39m'\u001b[39m)\n",
      "\u001b[1;32m/home/mbikandi/Documents/s3ts/examples/dtw_layer_tests.ipynb Celda 12\u001b[0m line \u001b[0;36m6\n\u001b[1;32m     <a href='vscode-notebook-cell:/home/mbikandi/Documents/s3ts/examples/dtw_layer_tests.ipynb#X12sZmlsZQ%3D%3D?line=58'>59</a>\u001b[0m \u001b[39m@staticmethod\u001b[39m\n\u001b[1;32m     <a href='vscode-notebook-cell:/home/mbikandi/Documents/s3ts/examples/dtw_layer_tests.ipynb#X12sZmlsZQ%3D%3D?line=59'>60</a>\u001b[0m \u001b[39mdef\u001b[39;00m \u001b[39mforward\u001b[39m(x, y, w):\n\u001b[0;32m---> <a href='vscode-notebook-cell:/home/mbikandi/Documents/s3ts/examples/dtw_layer_tests.ipynb#X12sZmlsZQ%3D%3D?line=60'>61</a>\u001b[0m     DTW, p_diff \u001b[39m=\u001b[39m torch_dtw_fast(x, y, w)\n\u001b[1;32m     <a href='vscode-notebook-cell:/home/mbikandi/Documents/s3ts/examples/dtw_layer_tests.ipynb#X12sZmlsZQ%3D%3D?line=61'>62</a>\u001b[0m     \u001b[39mreturn\u001b[39;00m DTW, p_diff\n",
      "\u001b[0;31mKeyboardInterrupt\u001b[0m: "
     ]
    }
   ],
   "source": [
    "optimizer = torch.optim.Adam([{\"params\": model[1:].parameters(), \"lr\": 0.001},\n",
    "                              {\"params\": model[0].parameters(), \"lr\": 0.001}])\n",
    "criterion = torch.nn.functional.cross_entropy\n",
    "\n",
    "for i in range(50):\n",
    "    running_loss = 0\n",
    "    for id, batch in enumerate(dm.train_dataloader()):\n",
    "        data = batch[\"series\"]\n",
    "        cl = batch[\"label\"][:, -1]\n",
    "\n",
    "        optimizer.zero_grad()\n",
    "        out = model(data)\n",
    "        loss = criterion(out, cl)\n",
    "\n",
    "        loss.backward()\n",
    "        optimizer.step()\n",
    "\n",
    "        running_loss += loss.item()\n",
    "\n",
    "    print(running_loss/id)"
   ]
  }
 ],
 "metadata": {
  "kernelspec": {
   "display_name": "env",
   "language": "python",
   "name": "python3"
  },
  "language_info": {
   "codemirror_mode": {
    "name": "ipython",
    "version": 3
   },
   "file_extension": ".py",
   "mimetype": "text/x-python",
   "name": "python",
   "nbconvert_exporter": "python",
   "pygments_lexer": "ipython3",
   "version": "3.10.13"
  }
 },
 "nbformat": 4,
 "nbformat_minor": 2
}
