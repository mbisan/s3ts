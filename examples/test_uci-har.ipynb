{
 "cells": [
  {
   "cell_type": "code",
   "execution_count": null,
   "metadata": {},
   "outputs": [],
   "source": [
    "import os\n",
    "os.chdir(\"../\")"
   ]
  },
  {
   "cell_type": "code",
   "execution_count": null,
   "metadata": {},
   "outputs": [],
   "source": [
    "import numpy as np\n",
    "import torch\n",
    "from torch.utils.data import Dataset\n",
    "from tslearn.clustering import TimeSeriesKMeans\n",
    "import matplotlib.pyplot as plt\n",
    "from aeon.distances import pairwise_distance\n",
    "from IPython.display import display, clear_output\n",
    "from time import time"
   ]
  },
  {
   "cell_type": "code",
   "execution_count": null,
   "metadata": {},
   "outputs": [],
   "source": [
    "from storage.har_datasets import HARTHDataset, UCI_HARDataset\n",
    "from s3ts.api.ts2sts import compute_medoids\n",
    "from s3ts.api.encodings import compute_DM\n",
    "from storage.label_mappings import *"
   ]
  },
  {
   "cell_type": "code",
   "execution_count": null,
   "metadata": {},
   "outputs": [],
   "source": [
    "ds = UCI_HARDataset(\"./datasets/UCI-HAR/\", split=\"train\", wsize=64, normalize=True)"
   ]
  },
  {
   "cell_type": "code",
   "execution_count": null,
   "metadata": {},
   "outputs": [],
   "source": [
    "def obtain_barycenter(dataset, n_random=100, normalize=False):\n",
    "    window_id, window_lb = dataset.getSameClassWindowIndex()\n",
    "\n",
    "    np.random.seed(0)\n",
    "\n",
    "    selected = np.empty((np.unique(window_lb).shape[0], dataset.wsize, dataset.STS.shape[-1]))\n",
    "\n",
    "    for i, c in enumerate(np.unique(window_lb)):\n",
    "        # get the random windows for the class c\n",
    "\n",
    "        rw = np.random.choice(window_id[window_lb == c].reshape(-1), n_random)\n",
    "\n",
    "        ts, cs = dataset.sliceFromArrayOfIndices(rw)\n",
    "\n",
    "        km = TimeSeriesKMeans(n_clusters=1, verbose=True, random_state=1, metric=\"dtw\", n_jobs=-1)\n",
    "        km.fit(ts)\n",
    "\n",
    "        selected[i] = km.cluster_centers_[0]\n",
    "    \n",
    "    return selected"
   ]
  },
  {
   "cell_type": "code",
   "execution_count": null,
   "metadata": {},
   "outputs": [],
   "source": [
    "# barycenters = obtain_barycenter(ds, 500)"
   ]
  },
  {
   "cell_type": "code",
   "execution_count": null,
   "metadata": {},
   "outputs": [],
   "source": [
    "def obtain_medoids(dataset, n_random=100, normalize=False):\n",
    "    window_id, window_lb = dataset.getSameClassWindowIndex()\n",
    "\n",
    "    np.random.seed(0)\n",
    "\n",
    "    selected_w = []\n",
    "    selected_c = []\n",
    "\n",
    "    for i, c in enumerate(np.unique(window_lb)):\n",
    "        # get the random windows for the class c\n",
    "\n",
    "        rw = np.random.choice(window_id[window_lb == c].reshape(-1), n_random)\n",
    "\n",
    "        ts, cs = dataset.sliceFromArrayOfIndices(rw)\n",
    "\n",
    "        selected_w.append(ts)\n",
    "        selected_c.append(np.full(n_random, c, np.int32))\n",
    "\n",
    "    # dimensions\n",
    "    selected_w = np.concatenate(selected_w) # (n, len, dims)\n",
    "    selected_w = np.transpose(selected_w, (0, 2, 1))\n",
    "\n",
    "    meds, meds_id = compute_medoids(selected_w, np.concatenate(selected_c, axis=0))\n",
    "\n",
    "    return np.transpose(meds[:,0,:,:], (0, 2, 1))"
   ]
  },
  {
   "cell_type": "code",
   "execution_count": null,
   "metadata": {},
   "outputs": [],
   "source": [
    "# meds = obtain_medoids(ds, 500)\n",
    "\n",
    "meds = np.load(\"./datasets/UCI-HAR/medoids.npz\")"
   ]
  },
  {
   "cell_type": "code",
   "execution_count": null,
   "metadata": {},
   "outputs": [],
   "source": [
    "fig, ax = plt.subplots(nrows=1)\n",
    "[ax.plot(meds[0,:,d]) for d in range(6)]"
   ]
  },
  {
   "cell_type": "code",
   "execution_count": null,
   "metadata": {},
   "outputs": [],
   "source": [
    "from s3ts.api.dms.har_datasets import DFDataset, DFDatasetCopy"
   ]
  },
  {
   "cell_type": "code",
   "execution_count": null,
   "metadata": {},
   "outputs": [],
   "source": [
    "ds_df = DFDataset(ds, patterns=meds, w=0.1)"
   ]
  },
  {
   "cell_type": "code",
   "execution_count": null,
   "metadata": {},
   "outputs": [],
   "source": [
    "del ds_df"
   ]
  },
  {
   "cell_type": "code",
   "execution_count": null,
   "metadata": {},
   "outputs": [],
   "source": [
    "plot, ax = plt.subplots(nrows=2, ncols=3)\n",
    "\n",
    "title = plot.text(0.5,0.85, \"\")\n",
    "\n",
    "ax_images = []\n",
    "for i in range(2):\n",
    "    for j in range(3):\n",
    "        if i==0:\n",
    "            ax_images.append(ax[i, j].imshow(np.random.randn(64, 64), vmin=0, vmax=100))\n",
    "        if i==1:\n",
    "            ax_images.append(ax[i, j].imshow(np.random.randn(64, 64), vmin=0, vmax=100))\n",
    "\n",
    "        ax_twin = ax[i, j].twinx()\n",
    "        ax_twin.set_xlim([0, 64])\n",
    "        ax_twin.set_ylim([0, 64])\n",
    "        [ax_twin.plot(meds[i*3+j,:,h]*20 + 15, np.arange(64)) for h in range(6)]\n",
    "\n",
    "for i in range(10000, 20000, 16):\n",
    "    for col in range(3):\n",
    "        df, ts, c = ds_df[i]\n",
    "        for h in range(6):\n",
    "            ax_images[h].set_data(df[h].T)\n",
    "\n",
    "    title.set_text(f\"Class {UCI_HAR_LABELS[c]}\")\n",
    "    display(plot)    \n",
    "    clear_output(wait = True)"
   ]
  }
 ],
 "metadata": {
  "kernelspec": {
   "display_name": "Python 3 (ipykernel)",
   "language": "python",
   "name": "python3"
  },
  "language_info": {
   "codemirror_mode": {
    "name": "ipython",
    "version": 3
   },
   "file_extension": ".py",
   "mimetype": "text/x-python",
   "name": "python",
   "nbconvert_exporter": "python",
   "pygments_lexer": "ipython3",
   "version": "3.10.13"
  }
 },
 "nbformat": 4,
 "nbformat_minor": 4
}
