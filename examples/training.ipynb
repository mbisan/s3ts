{
 "cells": [
  {
   "cell_type": "code",
   "execution_count": 1,
   "metadata": {},
   "outputs": [
    {
     "name": "stdout",
     "output_type": "stream",
     "text": [
      "(80, 6, 100) (80,) 4\n",
      "(6, 5000) (5000,)\n"
     ]
    }
   ],
   "source": [
    "from aeon.datasets import load_basic_motions, load_gunpoint\n",
    "from s3ts.api.ts2sts import finite_random_STS\n",
    "import numpy as np\n",
    "\n",
    "X, Y = load_basic_motions()\n",
    "print(X.shape, Y.shape, len(np.unique(Y)))\n",
    "\n",
    "Yn = np.zeros_like(Y, dtype=np.int8)\n",
    "for i, y in enumerate(np.unique(Y)):\n",
    "    Yn[Y == y] = i\n",
    "Y = Yn\n",
    "\n",
    "STS, SCS = finite_random_STS(X, Y, length=50)\n",
    "print(STS.shape, SCS.shape)"
   ]
  },
  {
   "cell_type": "code",
   "execution_count": 2,
   "metadata": {},
   "outputs": [],
   "source": [
    "# import matplotlib.pyplot as plt\n",
    "# plt.plot(STS[0]);"
   ]
  },
  {
   "cell_type": "code",
   "execution_count": 3,
   "metadata": {},
   "outputs": [
    {
     "name": "stdout",
     "output_type": "stream",
     "text": [
      "(4, 1, 6, 100) (4, 6, 100)\n"
     ]
    }
   ],
   "source": [
    "from s3ts.api.ts2sts import compute_medoids\n",
    "meds, meds_idx = compute_medoids(X, Y, meds_per_class=1, metric=\"dtw\")\n",
    "patts = meds.squeeze(1)\n",
    "print(meds.shape, patts.shape)"
   ]
  },
  {
   "cell_type": "code",
   "execution_count": 4,
   "metadata": {},
   "outputs": [],
   "source": [
    "from s3ts.api.encodings import compute_DM\n",
    "DM = compute_DM(STS, patts, rho=0.1, metric=\"squared\")"
   ]
  },
  {
   "cell_type": "code",
   "execution_count": 5,
   "metadata": {},
   "outputs": [],
   "source": [
    "# import matplotlib.pyplot as plt\n",
    "# npoints = 1000\n",
    "# fig, ax = plt.subplots(nrows=len(np.unique(Y))+1)\n",
    "# axi: plt.Axes = ax[0]\n",
    "# axi.set_xlim(0, npoints)\n",
    "# [axi.plot(STS[d,:npoints]) for d in range(STS.shape[0])]\n",
    "# for i in range(len(np.unique(Y))):\n",
    "#     axi: plt.Axes = ax[i+1]\n",
    "#     axi.imshow(DM[i,:,:npoints])"
   ]
  },
  {
   "cell_type": "code",
   "execution_count": 6,
   "metadata": {},
   "outputs": [],
   "source": [
    "from s3ts.api.sts2dm import StaticDM\n",
    "import numpy as np\n",
    "\n",
    "STS_len = STS.shape[1]\n",
    "data_split = {\n",
    "    \"train\": np.arange(100, 2*(STS_len//4)),\n",
    "    \"val\": np.arange(2*(STS_len//4), 3*(STS_len//4)),\n",
    "    \"test\": np.arange(STS_len)}\n",
    "\n",
    "dm = StaticDM(STS, SCS, DM, \n",
    "    wdw_len=10, wdw_str=1, sts_str=False, \n",
    "    data_split=data_split, batch_size=32)"
   ]
  },
  {
   "cell_type": "code",
   "execution_count": null,
   "metadata": {},
   "outputs": [],
   "source": [
    "from s3ts.api.networks import train_model\n",
    "\n",
    "train_model()"
   ]
  }
 ],
 "metadata": {
  "kernelspec": {
   "display_name": "env",
   "language": "python",
   "name": "python3"
  },
  "language_info": {
   "codemirror_mode": {
    "name": "ipython",
    "version": 3
   },
   "file_extension": ".py",
   "mimetype": "text/x-python",
   "name": "python",
   "nbconvert_exporter": "python",
   "pygments_lexer": "ipython3",
   "version": "3.11.6"
  }
 },
 "nbformat": 4,
 "nbformat_minor": 2
}
