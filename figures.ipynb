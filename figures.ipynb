{
 "cells": [
  {
   "cell_type": "code",
   "execution_count": null,
   "metadata": {},
   "outputs": [],
   "source": [
    "# plotting libraries\n",
    "import matplotlib.pyplot as plt\n",
    "import seaborn as sns\n",
    "\n",
    "# data analysis libraries\n",
    "import pandas as pd\n",
    "import numpy as np\n",
    "\n",
    "# general imports\n",
    "from pathlib import Path"
   ]
  },
  {
   "attachments": {},
   "cell_type": "markdown",
   "metadata": {},
   "source": [
    "### Load the data from the experiments"
   ]
  },
  {
   "cell_type": "code",
   "execution_count": null,
   "metadata": {},
   "outputs": [
    {
     "ename": "NameError",
     "evalue": "name 'Path' is not defined",
     "output_type": "error",
     "traceback": [
      "\u001b[0;31m---------------------------------------------------------------------------\u001b[0m",
      "\u001b[0;31mNameError\u001b[0m                                 Traceback (most recent call last)",
      "Cell \u001b[0;32mIn[1], line 1\u001b[0m\n\u001b[0;32m----> 1\u001b[0m folder \u001b[39m=\u001b[39m Path(\u001b[39m\"\u001b[39m\u001b[39mstorage/synced\u001b[39m\u001b[39m\"\u001b[39m)\n\u001b[1;32m      3\u001b[0m \u001b[39m# load all csv files in the folder using pandas\u001b[39;00m\n\u001b[1;32m      4\u001b[0m df \u001b[39m=\u001b[39m pd\u001b[39m.\u001b[39mconcat([pd\u001b[39m.\u001b[39mread_csv(f) \u001b[39mfor\u001b[39;00m f \u001b[39min\u001b[39;00m folder\u001b[39m.\u001b[39mglob(\u001b[39m\"\u001b[39m\u001b[39m*.csv\u001b[39m\u001b[39m\"\u001b[39m)])\n",
      "\u001b[0;31mNameError\u001b[0m: name 'Path' is not defined"
     ]
    }
   ],
   "source": [
    "folder = Path(\"storage/synced\")\n",
    "\n",
    "# load all csv files in the folder using pandas\n",
    "df = pd.concat([pd.read_csv(f) for f in folder.glob(\"*.csv\")])\n",
    "df[\"stride_series\"].replace(np.NaN, False, inplace=True)\n",
    "df['train_exc_limit'].replace(np.NaN, 0, inplace=True)\n",
    "df[\"pretrained\"].replace(np.NaN, False, inplace=True)\n",
    "df[\"pretrain_mode\"].replace(np.NaN, False, inplace=True)\n",
    "df[\"window_time_stride\"].replace(np.NaN, 1, inplace=True)\n",
    "df[\"window_patt_stride\"].replace(np.NaN, 1, inplace=True)\n",
    "df[\"cv_rep\"].replace(np.NaN, False, inplace=True)\n",
    "df[\"eq_wdw_length\"] = df[\"window_length\"]*df[\"window_time_stride\"]\n",
    "df"
   ]
  },
  {
   "cell_type": "code",
   "execution_count": 11,
   "metadata": {},
   "outputs": [
    {
     "ename": "NameError",
     "evalue": "name 'df' is not defined",
     "output_type": "error",
     "traceback": [
      "\u001b[0;31m---------------------------------------------------------------------------\u001b[0m",
      "\u001b[0;31mNameError\u001b[0m                                 Traceback (most recent call last)",
      "Cell \u001b[0;32mIn[11], line 1\u001b[0m\n\u001b[0;32m----> 1\u001b[0m df[df[\u001b[39m\"\u001b[39m\u001b[39march\u001b[39m\u001b[39m\"\u001b[39m] \u001b[39m==\u001b[39m \u001b[39m\"\u001b[39m\u001b[39mnn\u001b[39m\u001b[39m\"\u001b[39m][[\u001b[39m'\u001b[39m\u001b[39mmode\u001b[39m\u001b[39m'\u001b[39m, \u001b[39m'\u001b[39m\u001b[39march\u001b[39m\u001b[39m'\u001b[39m, \u001b[39m'\u001b[39m\u001b[39mdataset\u001b[39m\u001b[39m'\u001b[39m, \u001b[39m'\u001b[39m\u001b[39mpretrain_mode\u001b[39m\u001b[39m'\u001b[39m, \u001b[39m'\u001b[39m\u001b[39mwindow_length\u001b[39m\u001b[39m'\u001b[39m, \u001b[39m\"\u001b[39m\u001b[39mstride_series\u001b[39m\u001b[39m\"\u001b[39m,\n\u001b[1;32m      2\u001b[0m                  \u001b[39m'\u001b[39m\u001b[39mwindow_time_stride\u001b[39m\u001b[39m'\u001b[39m, \u001b[39m'\u001b[39m\u001b[39mwindow_patt_stride\u001b[39m\u001b[39m'\u001b[39m, \u001b[39m'\u001b[39m\u001b[39mtrain_exc_limit\u001b[39m\u001b[39m'\u001b[39m, \u001b[39m'\u001b[39m\u001b[39mpretrained\u001b[39m\u001b[39m'\u001b[39m, \u001b[39m\"\u001b[39m\u001b[39mcv_rep\u001b[39m\u001b[39m\"\u001b[39m]]\n",
      "\u001b[0;31mNameError\u001b[0m: name 'df' is not defined"
     ]
    }
   ],
   "source": [
    "df[df[\"arch\"] == \"nn\"][['mode', 'arch', 'dataset', 'pretrain_mode', 'window_length', \"stride_series\",\n",
    "                 'window_time_stride', 'window_patt_stride', 'train_exc_limit', 'pretrained', \"cv_rep\"]]"
   ]
  },
  {
   "cell_type": "code",
   "execution_count": 12,
   "metadata": {},
   "outputs": [
    {
     "ename": "NameError",
     "evalue": "name 'df' is not defined",
     "output_type": "error",
     "traceback": [
      "\u001b[0;31m---------------------------------------------------------------------------\u001b[0m",
      "\u001b[0;31mNameError\u001b[0m                                 Traceback (most recent call last)",
      "Cell \u001b[0;32mIn[12], line 2\u001b[0m\n\u001b[1;32m      1\u001b[0m \u001b[39m# check for duplicate entries\u001b[39;00m\n\u001b[0;32m----> 2\u001b[0m file_entries \u001b[39m=\u001b[39m \u001b[39mlen\u001b[39m(df)\n\u001b[1;32m      3\u001b[0m df \u001b[39m=\u001b[39m df\u001b[39m.\u001b[39mgroupby([\u001b[39m'\u001b[39m\u001b[39mmode\u001b[39m\u001b[39m'\u001b[39m, \u001b[39m'\u001b[39m\u001b[39march\u001b[39m\u001b[39m'\u001b[39m, \u001b[39m'\u001b[39m\u001b[39mdataset\u001b[39m\u001b[39m'\u001b[39m, \u001b[39m'\u001b[39m\u001b[39mpretrain_mode\u001b[39m\u001b[39m'\u001b[39m, \u001b[39m'\u001b[39m\u001b[39mwindow_length\u001b[39m\u001b[39m'\u001b[39m, \u001b[39m\"\u001b[39m\u001b[39mstride_series\u001b[39m\u001b[39m\"\u001b[39m,\n\u001b[1;32m      4\u001b[0m                  \u001b[39m'\u001b[39m\u001b[39mwindow_time_stride\u001b[39m\u001b[39m'\u001b[39m, \u001b[39m'\u001b[39m\u001b[39mwindow_patt_stride\u001b[39m\u001b[39m'\u001b[39m, \u001b[39m'\u001b[39m\u001b[39mtrain_exc_limit\u001b[39m\u001b[39m'\u001b[39m, \u001b[39m'\u001b[39m\u001b[39mpretrained\u001b[39m\u001b[39m'\u001b[39m, \u001b[39m\"\u001b[39m\u001b[39mcv_rep\u001b[39m\u001b[39m\"\u001b[39m])\u001b[39m.\u001b[39mfirst()\u001b[39m.\u001b[39mreset_index()\n\u001b[1;32m      5\u001b[0m unique_entries \u001b[39m=\u001b[39m \u001b[39mlen\u001b[39m(df)\n",
      "\u001b[0;31mNameError\u001b[0m: name 'df' is not defined"
     ]
    }
   ],
   "source": [
    "# check for duplicate entries\n",
    "file_entries = len(df)\n",
    "df = df.groupby(['mode', 'arch', 'dataset', 'pretrain_mode', 'window_length', \"stride_series\",\n",
    "                 'window_time_stride', 'window_patt_stride', 'train_exc_limit', 'pretrained', \"cv_rep\"]).first().reset_index()\n",
    "unique_entries = len(df)\n",
    "print(f\"{file_entries - unique_entries} duplicate entries removed\")\n",
    "# df = df.groupby(['mode', 'arch', 'dataset', 'pretrain_mode', 'window_length', \"stride_series\",\n",
    "#                  'window_time_stride', 'window_patt_stride', 'train_exc_limit', 'pretrained', \"cv_rep\"]).count()\n",
    "# df[df[\"eq_wdw_length\"] > 1]"
   ]
  },
  {
   "cell_type": "code",
   "execution_count": 13,
   "metadata": {},
   "outputs": [
    {
     "ename": "NameError",
     "evalue": "name 'df' is not defined",
     "output_type": "error",
     "traceback": [
      "\u001b[0;31m---------------------------------------------------------------------------\u001b[0m",
      "\u001b[0;31mNameError\u001b[0m                                 Traceback (most recent call last)",
      "Cell \u001b[0;32mIn[13], line 2\u001b[0m\n\u001b[1;32m      1\u001b[0m \u001b[39m# show pretrained encoders\u001b[39;00m\n\u001b[0;32m----> 2\u001b[0m df[df[\u001b[39m\"\u001b[39m\u001b[39mpretrain_mode\u001b[39m\u001b[39m\"\u001b[39m]\u001b[39m==\u001b[39m\u001b[39mTrue\u001b[39;00m][[\u001b[39m'\u001b[39m\u001b[39mmode\u001b[39m\u001b[39m'\u001b[39m, \u001b[39m'\u001b[39m\u001b[39march\u001b[39m\u001b[39m'\u001b[39m, \u001b[39m'\u001b[39m\u001b[39mdataset\u001b[39m\u001b[39m'\u001b[39m, \u001b[39m'\u001b[39m\u001b[39mpretrain_mode\u001b[39m\u001b[39m'\u001b[39m, \u001b[39m'\u001b[39m\u001b[39mwindow_length\u001b[39m\u001b[39m'\u001b[39m, \u001b[39m'\u001b[39m\u001b[39mwindow_time_stride\u001b[39m\u001b[39m'\u001b[39m, \u001b[39m'\u001b[39m\u001b[39mwindow_patt_stride\u001b[39m\u001b[39m'\u001b[39m, \u001b[39m'\u001b[39m\u001b[39mpretrained\u001b[39m\u001b[39m'\u001b[39m, \u001b[39m\"\u001b[39m\u001b[39mcv_rep\u001b[39m\u001b[39m\"\u001b[39m]]\n",
      "\u001b[0;31mNameError\u001b[0m: name 'df' is not defined"
     ]
    }
   ],
   "source": [
    "# show pretrained encoders\n",
    "df[df[\"pretrain_mode\"]==True][['mode', 'arch', 'dataset', 'pretrain_mode', 'window_length', 'window_time_stride', 'window_patt_stride', 'pretrained', \"cv_rep\"]]"
   ]
  },
  {
   "cell_type": "code",
   "execution_count": 14,
   "metadata": {},
   "outputs": [
    {
     "ename": "NameError",
     "evalue": "name 'df' is not defined",
     "output_type": "error",
     "traceback": [
      "\u001b[0;31m---------------------------------------------------------------------------\u001b[0m",
      "\u001b[0;31mNameError\u001b[0m                                 Traceback (most recent call last)",
      "Cell \u001b[0;32mIn[14], line 1\u001b[0m\n\u001b[0;32m----> 1\u001b[0m df[np\u001b[39m.\u001b[39mlogical_and(df[\u001b[39m\"\u001b[39m\u001b[39mstride_series\u001b[39m\u001b[39m\"\u001b[39m]\u001b[39m==\u001b[39m\u001b[39mFalse\u001b[39;00m, df[\u001b[39m\"\u001b[39m\u001b[39mpretrain_mode\u001b[39m\u001b[39m\"\u001b[39m]\u001b[39m==\u001b[39m\u001b[39mFalse\u001b[39;00m)]\n",
      "\u001b[0;31mNameError\u001b[0m: name 'df' is not defined"
     ]
    }
   ],
   "source": [
    "df[np.logical_and(df[\"stride_series\"]==False, df[\"pretrain_mode\"]==False)]"
   ]
  },
  {
   "cell_type": "code",
   "execution_count": 15,
   "metadata": {},
   "outputs": [
    {
     "ename": "NameError",
     "evalue": "name 'df' is not defined",
     "output_type": "error",
     "traceback": [
      "\u001b[0;31m---------------------------------------------------------------------------\u001b[0m",
      "\u001b[0;31mNameError\u001b[0m                                 Traceback (most recent call last)",
      "Cell \u001b[0;32mIn[15], line 2\u001b[0m\n\u001b[1;32m      1\u001b[0m cols \u001b[39m=\u001b[39m [\u001b[39m'\u001b[39m\u001b[39mtest_acc\u001b[39m\u001b[39m'\u001b[39m, \u001b[39m'\u001b[39m\u001b[39mtest_f1\u001b[39m\u001b[39m'\u001b[39m, \u001b[39m'\u001b[39m\u001b[39mtest_auroc\u001b[39m\u001b[39m'\u001b[39m, \u001b[39m'\u001b[39m\u001b[39mval_acc\u001b[39m\u001b[39m'\u001b[39m, \u001b[39m'\u001b[39m\u001b[39mval_f1\u001b[39m\u001b[39m'\u001b[39m, \u001b[39m'\u001b[39m\u001b[39mval_auroc\u001b[39m\u001b[39m'\u001b[39m]\n\u001b[0;32m----> 2\u001b[0m df\u001b[39m.\u001b[39mcolumns\n",
      "\u001b[0;31mNameError\u001b[0m: name 'df' is not defined"
     ]
    }
   ],
   "source": [
    "cols = ['test_acc', 'test_f1', 'test_auroc', 'val_acc', 'val_f1', 'val_auroc']\n",
    "df.columns"
   ]
  },
  {
   "attachments": {},
   "cell_type": "markdown",
   "metadata": {},
   "source": [
    "# Section 5.1: Time Dilation Effects\n",
    "\n",
    "- Check the dependence of time dilation on classifier performance"
   ]
  },
  {
   "cell_type": "code",
   "execution_count": 16,
   "metadata": {},
   "outputs": [
    {
     "ename": "NameError",
     "evalue": "name 'df' is not defined",
     "output_type": "error",
     "traceback": [
      "\u001b[0;31m---------------------------------------------------------------------------\u001b[0m",
      "\u001b[0;31mNameError\u001b[0m                                 Traceback (most recent call last)",
      "Cell \u001b[0;32mIn[16], line 2\u001b[0m\n\u001b[1;32m      1\u001b[0m \u001b[39m# Filter the data\u001b[39;00m\n\u001b[0;32m----> 2\u001b[0m data \u001b[39m=\u001b[39m df[df[\u001b[39m\"\u001b[39m\u001b[39mpretrain_mode\u001b[39m\u001b[39m\"\u001b[39m] \u001b[39m==\u001b[39m \u001b[39mFalse\u001b[39;00m]\u001b[39m.\u001b[39mcopy()\n\u001b[1;32m      4\u001b[0m data \u001b[39m=\u001b[39m data[data[\u001b[39m'\u001b[39m\u001b[39mtrain_exc_limit\u001b[39m\u001b[39m'\u001b[39m] \u001b[39m==\u001b[39m \u001b[39m32\u001b[39m]\n\u001b[1;32m      5\u001b[0m data \u001b[39m=\u001b[39m data[data[\u001b[39m\"\u001b[39m\u001b[39mwindow_patt_stride\u001b[39m\u001b[39m\"\u001b[39m] \u001b[39m==\u001b[39m \u001b[39m1\u001b[39m]\n",
      "\u001b[0;31mNameError\u001b[0m: name 'df' is not defined"
     ]
    }
   ],
   "source": [
    "# Filter the data\n",
    "data = df[df[\"pretrain_mode\"] == False].copy()\n",
    "\n",
    "data = data[data['train_exc_limit'] == 32]\n",
    "data = data[data[\"window_patt_stride\"] == 1]\n",
    "data = data[data[\"pretrained\"] == False]\n",
    "\n",
    "nn_data = data[data[\"arch\"] == \"nn\"]\n",
    "data = data[~data[\"arch\"].isin([\"nn\"])]\n",
    "#data = data[data[\"dataset\"] == \"CBF\"]\n"
   ]
  },
  {
   "cell_type": "code",
   "execution_count": 17,
   "metadata": {},
   "outputs": [
    {
     "ename": "NameError",
     "evalue": "name 'data' is not defined",
     "output_type": "error",
     "traceback": [
      "\u001b[0;31m---------------------------------------------------------------------------\u001b[0m",
      "\u001b[0;31mNameError\u001b[0m                                 Traceback (most recent call last)",
      "Cell \u001b[0;32mIn[17], line 2\u001b[0m\n\u001b[1;32m      1\u001b[0m \u001b[39m# Generate a table\u001b[39;00m\n\u001b[0;32m----> 2\u001b[0m data\u001b[39m.\u001b[39mgroupby([\u001b[39m\"\u001b[39m\u001b[39mdataset\u001b[39m\u001b[39m\"\u001b[39m, \u001b[39m\"\u001b[39m\u001b[39mmode\u001b[39m\u001b[39m\"\u001b[39m, \u001b[39m\"\u001b[39m\u001b[39march\u001b[39m\u001b[39m\"\u001b[39m, \u001b[39m\"\u001b[39m\u001b[39meq_wdw_length\u001b[39m\u001b[39m\"\u001b[39m])[cols]\u001b[39m.\u001b[39mmean()\n",
      "\u001b[0;31mNameError\u001b[0m: name 'data' is not defined"
     ]
    }
   ],
   "source": [
    "# Generate a table\n",
    "data.groupby([\"dataset\", \"mode\", \"arch\", \"eq_wdw_length\"])[cols].mean()"
   ]
  },
  {
   "cell_type": "code",
   "execution_count": 18,
   "metadata": {},
   "outputs": [
    {
     "ename": "NameError",
     "evalue": "name 'nn_data' is not defined",
     "output_type": "error",
     "traceback": [
      "\u001b[0;31m---------------------------------------------------------------------------\u001b[0m",
      "\u001b[0;31mNameError\u001b[0m                                 Traceback (most recent call last)",
      "Cell \u001b[0;32mIn[18], line 1\u001b[0m\n\u001b[0;32m----> 1\u001b[0m nn_data\u001b[39m.\u001b[39mgroupby([\u001b[39m\"\u001b[39m\u001b[39mdataset\u001b[39m\u001b[39m\"\u001b[39m, \u001b[39m\"\u001b[39m\u001b[39mmode\u001b[39m\u001b[39m\"\u001b[39m, \u001b[39m\"\u001b[39m\u001b[39march\u001b[39m\u001b[39m\"\u001b[39m])[cols]\u001b[39m.\u001b[39mmean()\n",
      "\u001b[0;31mNameError\u001b[0m: name 'nn_data' is not defined"
     ]
    }
   ],
   "source": [
    "nn_data.groupby([\"dataset\", \"mode\", \"arch\"])[cols].mean()"
   ]
  },
  {
   "cell_type": "code",
   "execution_count": 19,
   "metadata": {},
   "outputs": [
    {
     "ename": "NameError",
     "evalue": "name 'data' is not defined",
     "output_type": "error",
     "traceback": [
      "\u001b[0;31m---------------------------------------------------------------------------\u001b[0m",
      "\u001b[0;31mNameError\u001b[0m                                 Traceback (most recent call last)",
      "Cell \u001b[0;32mIn[19], line 2\u001b[0m\n\u001b[1;32m      1\u001b[0m \u001b[39m# Generate a plot\u001b[39;00m\n\u001b[0;32m----> 2\u001b[0m data[\u001b[39m\"\u001b[39m\u001b[39mMethod\u001b[39m\u001b[39m\"\u001b[39m] \u001b[39m=\u001b[39m  data[\u001b[39m\"\u001b[39m\u001b[39march\u001b[39m\u001b[39m\"\u001b[39m] \u001b[39m+\u001b[39m \u001b[39m\"\u001b[39m\u001b[39m_\u001b[39m\u001b[39m\"\u001b[39m \u001b[39m+\u001b[39m data[\u001b[39m\"\u001b[39m\u001b[39mmode\u001b[39m\u001b[39m\"\u001b[39m]\n\u001b[1;32m      3\u001b[0m data\u001b[39m.\u001b[39msort_values([\u001b[39m\"\u001b[39m\u001b[39mMethod\u001b[39m\u001b[39m\"\u001b[39m], inplace\u001b[39m=\u001b[39m\u001b[39mTrue\u001b[39;00m)\n\u001b[1;32m      5\u001b[0m sns\u001b[39m.\u001b[39mset_theme()\n",
      "\u001b[0;31mNameError\u001b[0m: name 'data' is not defined"
     ]
    }
   ],
   "source": [
    "# Generate a plot\n",
    "data[\"Method\"] =  data[\"arch\"] + \"_\" + data[\"mode\"]\n",
    "data.sort_values([\"Method\"], inplace=True)\n",
    "\n",
    "sns.set_theme()\n",
    "sns.set_style(\"whitegrid\")\n",
    "plt.rc('font', family='serif')\n",
    "plt.rc('xtick', labelsize='small')\n",
    "plt.rc('ytick', labelsize='small')\n",
    "\n",
    "g = sns.relplot(data=data, x=\"eq_wdw_length\", y=\"test_acc\", hue='arch', kind=\"line\", palette=\"bright\", col=\"mode\", row=\"dataset\",\n",
    "                height=6, aspect=1.5, legend=True, markers=\"True\", facet_kws={\"despine\": False})\n",
    "\n",
    "g.set_ylabels(\"Test Accuracy (%)\")\n",
    "g.set_xlabels(\"Equivalent Window Length\");\n",
    "\n",
    "g.savefig(\"figures/time_dilation.pdf\", bbox_inches='tight')"
   ]
  },
  {
   "attachments": {},
   "cell_type": "markdown",
   "metadata": {},
   "source": [
    "# Section 5.2: Pattern Stride Effects"
   ]
  },
  {
   "cell_type": "code",
   "execution_count": 20,
   "metadata": {},
   "outputs": [],
   "source": [
    "# data = df[df[\"pretrain_mode\"] == False].copy()\n",
    "\n",
    "# data = data[data['train_exc_limit'] == 32]\n",
    "# data = data[data[\"window_time_stride\"] == 7]\n",
    "# data = data[data[\"pretrained\"] == False]\n",
    "\n",
    "# data = data[data[\"dataset\"] == \"CBF\"]"
   ]
  },
  {
   "cell_type": "code",
   "execution_count": 21,
   "metadata": {},
   "outputs": [],
   "source": [
    "# # Generate a table\n",
    "# data.groupby([\"dataset\", \"mode\", \"arch\", \"window_patt_stride\"])[cols].mean()"
   ]
  },
  {
   "cell_type": "code",
   "execution_count": 22,
   "metadata": {},
   "outputs": [],
   "source": [
    "# # Generate a plot\n",
    "# data[\"Method\"] =  data[\"arch\"] + \"_\" + data[\"mode\"]\n",
    "# data.sort_values([\"Method\"], inplace=True)\n",
    "\n",
    "# sns.set_theme()\n",
    "# sns.set_style(\"whitegrid\")\n",
    "# plt.rc('font', family='serif')\n",
    "# plt.rc('xtick', labelsize='small')\n",
    "# plt.rc('ytick', labelsize='small')\n",
    "\n",
    "# g = sns.relplot(data=data, x=\"window_patt_stride\", y=\"val_acc\", hue='Method', kind=\"line\", palette=\"bright\",\n",
    "#                 height=8, aspect=1.5, legend=True, markers=\"True\", facet_kws={\"despine\": False})\n",
    "\n",
    "# g.set_ylabels(\"Test Accuracy (%)\")\n",
    "# g.set_xlabels(\"Window Pattern Stride\");\n",
    "\n",
    "# g.savefig(\"figures/pattern_stride_acc.pdf\", bbox_inches='tight')"
   ]
  },
  {
   "cell_type": "code",
   "execution_count": 23,
   "metadata": {},
   "outputs": [],
   "source": [
    "# # Generate a plot\n",
    "\n",
    "# sns.set_theme()\n",
    "# sns.set_style(\"whitegrid\")\n",
    "# plt.rc('font', family='serif')\n",
    "# plt.rc('xtick', labelsize='small')\n",
    "# plt.rc('ytick', labelsize='small')\n",
    "\n",
    "# data[\"Time\"] = data[\"time_train\"]/60/60\n",
    "\n",
    "# g = sns.relplot(data=data, x=\"window_patt_stride\", y='Time', hue='Method', kind=\"line\", palette=\"bright\",\n",
    "#                 height=8, aspect=1.5, legend=True, markers=\"True\", facet_kws={\"despine\": False})\n",
    "\n",
    "# g.set_ylabels(\"Training Time (Hours)\")\n",
    "# g.set_xlabels(\"Window Pattern Stride\");\n",
    "\n",
    "# g.savefig(\"figures/pattern_stride_time.pdf\", bbox_inches='tight')"
   ]
  },
  {
   "attachments": {},
   "cell_type": "markdown",
   "metadata": {},
   "source": [
    "# Section 5.3: Self-Supervised Pretrain Effects"
   ]
  },
  {
   "cell_type": "code",
   "execution_count": 24,
   "metadata": {},
   "outputs": [
    {
     "ename": "NameError",
     "evalue": "name 'df' is not defined",
     "output_type": "error",
     "traceback": [
      "\u001b[0;31m---------------------------------------------------------------------------\u001b[0m",
      "\u001b[0;31mNameError\u001b[0m                                 Traceback (most recent call last)",
      "Cell \u001b[0;32mIn[24], line 1\u001b[0m\n\u001b[0;32m----> 1\u001b[0m data \u001b[39m=\u001b[39m df[df[\u001b[39m\"\u001b[39m\u001b[39mpretrain_mode\u001b[39m\u001b[39m\"\u001b[39m] \u001b[39m==\u001b[39m \u001b[39mFalse\u001b[39;00m]\u001b[39m.\u001b[39mcopy()\n\u001b[1;32m      3\u001b[0m data \u001b[39m=\u001b[39m data[data[\u001b[39m\"\u001b[39m\u001b[39mwindow_time_stride\u001b[39m\u001b[39m\"\u001b[39m] \u001b[39m==\u001b[39m \u001b[39m7\u001b[39m]\n\u001b[1;32m      4\u001b[0m data \u001b[39m=\u001b[39m data[data[\u001b[39m\"\u001b[39m\u001b[39mwindow_patt_stride\u001b[39m\u001b[39m\"\u001b[39m] \u001b[39m==\u001b[39m \u001b[39m1\u001b[39m]\n",
      "\u001b[0;31mNameError\u001b[0m: name 'df' is not defined"
     ]
    }
   ],
   "source": [
    "data = df[df[\"pretrain_mode\"] == False].copy()\n",
    "\n",
    "data = data[data[\"window_time_stride\"] == 7]\n",
    "data = data[data[\"window_patt_stride\"] == 1]\n",
    "\n",
    "# data = data[data[\"dataset\"] == \"CBF\"]\n",
    "# data = data[data[\"mode\"] == \"df\"]\n",
    "data = data[data[\"arch\"].isin([\"cnn\", \"res\"])]"
   ]
  },
  {
   "cell_type": "code",
   "execution_count": 25,
   "metadata": {},
   "outputs": [
    {
     "ename": "NameError",
     "evalue": "name 'data' is not defined",
     "output_type": "error",
     "traceback": [
      "\u001b[0;31m---------------------------------------------------------------------------\u001b[0m",
      "\u001b[0;31mNameError\u001b[0m                                 Traceback (most recent call last)",
      "Cell \u001b[0;32mIn[25], line 1\u001b[0m\n\u001b[0;32m----> 1\u001b[0m data[data[\u001b[39m\"\u001b[39m\u001b[39mmode\u001b[39m\u001b[39m\"\u001b[39m] \u001b[39m==\u001b[39m \u001b[39m\"\u001b[39m\u001b[39mdf\u001b[39m\u001b[39m\"\u001b[39m]\u001b[39m.\u001b[39mgroupby([\u001b[39m\"\u001b[39m\u001b[39mdataset\u001b[39m\u001b[39m\"\u001b[39m, \u001b[39m\"\u001b[39m\u001b[39mmode\u001b[39m\u001b[39m\"\u001b[39m, \u001b[39m\"\u001b[39m\u001b[39march\u001b[39m\u001b[39m\"\u001b[39m, \u001b[39m\"\u001b[39m\u001b[39mpretrained\u001b[39m\u001b[39m\"\u001b[39m, \u001b[39m\"\u001b[39m\u001b[39mstride_series\u001b[39m\u001b[39m\"\u001b[39m, \u001b[39m'\u001b[39m\u001b[39mtrain_exc_limit\u001b[39m\u001b[39m'\u001b[39m])[cols]\u001b[39m.\u001b[39mmean()\n",
      "\u001b[0;31mNameError\u001b[0m: name 'data' is not defined"
     ]
    }
   ],
   "source": [
    "data[data[\"mode\"] == \"df\"].groupby([\"dataset\", \"mode\", \"arch\", \"pretrained\", \"stride_series\", 'train_exc_limit'])[cols].mean()"
   ]
  },
  {
   "cell_type": "code",
   "execution_count": 26,
   "metadata": {},
   "outputs": [
    {
     "ename": "NameError",
     "evalue": "name 'data' is not defined",
     "output_type": "error",
     "traceback": [
      "\u001b[0;31m---------------------------------------------------------------------------\u001b[0m",
      "\u001b[0;31mNameError\u001b[0m                                 Traceback (most recent call last)",
      "Cell \u001b[0;32mIn[26], line 2\u001b[0m\n\u001b[1;32m      1\u001b[0m \u001b[39m# Generate a plot\u001b[39;00m\n\u001b[0;32m----> 2\u001b[0m data[\u001b[39m\"\u001b[39m\u001b[39mModel\u001b[39m\u001b[39m\"\u001b[39m] \u001b[39m=\u001b[39m data[\u001b[39m\"\u001b[39m\u001b[39march\u001b[39m\u001b[39m\"\u001b[39m] \u001b[39m+\u001b[39m \u001b[39m\"\u001b[39m\u001b[39m \u001b[39m\u001b[39m\"\u001b[39m \u001b[39m+\u001b[39m data[\u001b[39m\"\u001b[39m\u001b[39mpretrained\u001b[39m\u001b[39m\"\u001b[39m]\u001b[39m.\u001b[39mreplace({\u001b[39mTrue\u001b[39;00m: \u001b[39m\"\u001b[39m\u001b[39m(Pret. \u001b[39m\u001b[39m\"\u001b[39m, \u001b[39mFalse\u001b[39;00m: \u001b[39m\"\u001b[39m\u001b[39m\"\u001b[39m}) \u001b[39m+\u001b[39m data[\u001b[39m\"\u001b[39m\u001b[39mstride_series\u001b[39m\u001b[39m\"\u001b[39m]\u001b[39m.\u001b[39mreplace({\u001b[39mTrue\u001b[39;00m: \u001b[39m\"\u001b[39m\u001b[39mB)\u001b[39m\u001b[39m\"\u001b[39m, \u001b[39mFalse\u001b[39;00m: \u001b[39m\"\u001b[39m\u001b[39mA)\u001b[39m\u001b[39m\"\u001b[39m})\n\u001b[1;32m      3\u001b[0m data[\u001b[39m\"\u001b[39m\u001b[39mModel\u001b[39m\u001b[39m\"\u001b[39m]\u001b[39m.\u001b[39mreplace({\u001b[39m\"\u001b[39m\u001b[39mcnn A)\u001b[39m\u001b[39m\"\u001b[39m: \u001b[39m\"\u001b[39m\u001b[39mcnn\u001b[39m\u001b[39m\"\u001b[39m, \u001b[39m\"\u001b[39m\u001b[39mres A)\u001b[39m\u001b[39m\"\u001b[39m: \u001b[39m\"\u001b[39m\u001b[39mres\u001b[39m\u001b[39m\"\u001b[39m, \u001b[39m\"\u001b[39m\u001b[39mtcn A)\u001b[39m\u001b[39m\"\u001b[39m: \u001b[39m\"\u001b[39m\u001b[39mtcn\u001b[39m\u001b[39m\"\u001b[39m}, inplace\u001b[39m=\u001b[39m\u001b[39mTrue\u001b[39;00m)\n\u001b[1;32m      4\u001b[0m data\u001b[39m.\u001b[39msort_values([\u001b[39m'\u001b[39m\u001b[39mModel\u001b[39m\u001b[39m'\u001b[39m], inplace\u001b[39m=\u001b[39m\u001b[39mTrue\u001b[39;00m)\n",
      "\u001b[0;31mNameError\u001b[0m: name 'data' is not defined"
     ]
    }
   ],
   "source": [
    "# Generate a plot\n",
    "data[\"Model\"] = data[\"arch\"] + \" \" + data[\"pretrained\"].replace({True: \"(Pret. \", False: \"\"}) + data[\"stride_series\"].replace({True: \"B)\", False: \"A)\"})\n",
    "data[\"Model\"].replace({\"cnn A)\": \"cnn\", \"res A)\": \"res\", \"tcn A)\": \"tcn\"}, inplace=True)\n",
    "data.sort_values(['Model'], inplace=True)\n",
    "\n",
    "sns.set_theme()\n",
    "sns.set_style(\"whitegrid\")\n",
    "plt.rc('font', family='serif')\n",
    "plt.rc('xtick', labelsize='small')\n",
    "plt.rc('ytick', labelsize='small')\n",
    "\n",
    "g = sns.relplot(data=data, x=\"train_exc_limit\", y=\"test_acc\", hue='Model', kind=\"line\", palette=\"bright\", col=\"mode\", row=\"dataset\", \n",
    "                height=5, aspect=1.5, legend=True, facet_kws={\"despine\": False})\n",
    "\n",
    "g.set_ylabels(\"Test Accuracy (%)\")\n",
    "g.set_xlabels(\"Samples per class\");\n",
    "\n",
    "g.savefig(\"figures/pretrain.pdf\", bbox_inches='tight')"
   ]
  },
  {
   "attachments": {},
   "cell_type": "markdown",
   "metadata": {},
   "source": [
    "# heatmap showing percent change over no pretraied model"
   ]
  },
  {
   "cell_type": "code",
   "execution_count": 27,
   "metadata": {},
   "outputs": [
    {
     "ename": "NameError",
     "evalue": "name 'data' is not defined",
     "output_type": "error",
     "traceback": [
      "\u001b[0;31m---------------------------------------------------------------------------\u001b[0m",
      "\u001b[0;31mNameError\u001b[0m                                 Traceback (most recent call last)",
      "Cell \u001b[0;32mIn[27], line 1\u001b[0m\n\u001b[0;32m----> 1\u001b[0m dfg \u001b[39m=\u001b[39m data\u001b[39m.\u001b[39mgroupby([\u001b[39m\"\u001b[39m\u001b[39mdataset\u001b[39m\u001b[39m\"\u001b[39m, \u001b[39m\"\u001b[39m\u001b[39mmode\u001b[39m\u001b[39m\"\u001b[39m, \u001b[39m\"\u001b[39m\u001b[39march\u001b[39m\u001b[39m\"\u001b[39m, \u001b[39m\"\u001b[39m\u001b[39mpretrained\u001b[39m\u001b[39m\"\u001b[39m, \u001b[39m\"\u001b[39m\u001b[39mstride_series\u001b[39m\u001b[39m\"\u001b[39m, \u001b[39m'\u001b[39m\u001b[39mtrain_exc_limit\u001b[39m\u001b[39m'\u001b[39m])[cols]\u001b[39m.\u001b[39mmean()\u001b[39m.\u001b[39mreset_index()\n\u001b[1;32m      3\u001b[0m metric \u001b[39m=\u001b[39m \u001b[39m\"\u001b[39m\u001b[39mtest_acc\u001b[39m\u001b[39m\"\u001b[39m\n\u001b[1;32m      5\u001b[0m \u001b[39m# archs = {arch: i for i, arch in enumerate(dfg[\"arch\"].sort_values().unique())}\u001b[39;00m\n\u001b[1;32m      6\u001b[0m \u001b[39m# dsets = {dset: i for i, dset in enumerate(dfg[\"dataset\"].sort_values().unique())}\u001b[39;00m\n\u001b[1;32m      7\u001b[0m \u001b[39m# modes = {mode: i for i, mode in enumerate(dfg[\"mode\"].sort_values().unique())}\u001b[39;00m\n\u001b[1;32m      8\u001b[0m \u001b[39m# samps = {samp: i for i, samp in enumerate(dfg[\"train_exc_limit\"].sort_values().unique())}\u001b[39;00m\n\u001b[1;32m      9\u001b[0m \u001b[39m# prets = {\"A\": 0, \"B\": 1}\u001b[39;00m\n",
      "\u001b[0;31mNameError\u001b[0m: name 'data' is not defined"
     ]
    }
   ],
   "source": [
    "dfg = data.groupby([\"dataset\", \"mode\", \"arch\", \"pretrained\", \"stride_series\", 'train_exc_limit'])[cols].mean().reset_index()\n",
    "\n",
    "metric = \"test_acc\"\n",
    "\n",
    "# archs = {arch: i for i, arch in enumerate(dfg[\"arch\"].sort_values().unique())}\n",
    "# dsets = {dset: i for i, dset in enumerate(dfg[\"dataset\"].sort_values().unique())}\n",
    "# modes = {mode: i for i, mode in enumerate(dfg[\"mode\"].sort_values().unique())}\n",
    "# samps = {samp: i for i, samp in enumerate(dfg[\"train_exc_limit\"].sort_values().unique())}\n",
    "# prets = {\"A\": 0, \"B\": 1}\n",
    "\n",
    "dfd = pd.DataFrame(columns=[\"arch\", \"mode\", \"dataset\", \"train_exc_limit\", \"pret\", metric])\n",
    "\n",
    "for (dset, mode, arch, nsamp), g in dfg.groupby([\"dataset\", \"mode\", \"arch\", 'train_exc_limit']):\n",
    "    \n",
    "    g: pd.DataFrame\n",
    "\n",
    "    if len(g) == 3:\n",
    "\n",
    "        def_val = g[metric].iloc[0]\n",
    "        pa_val = g[metric].iloc[1]\n",
    "        pb_val = g[metric].iloc[2]\n",
    "\n",
    "        dfd.loc[len(dfd)] = [arch, mode, dset, nsamp, \"A\", (pa_val - def_val)*100]\n",
    "        dfd.loc[len(dfd)] = [arch, mode, dset, nsamp, \"B\", (pb_val - def_val)*100]\n",
    "        \n",
    "    else: \n",
    "        continue\n",
    "\n",
    "dfd[\"arch_pret\"] = dfd[\"arch\"] + \"_\" + dfd[\"pret\"]\n",
    "dfd.sort_values([\"arch_pret\", \"dataset\", \"train_exc_limit\"], inplace=True)"
   ]
  },
  {
   "cell_type": "code",
   "execution_count": 28,
   "metadata": {},
   "outputs": [
    {
     "ename": "NameError",
     "evalue": "name 'sns' is not defined",
     "output_type": "error",
     "traceback": [
      "\u001b[0;31m---------------------------------------------------------------------------\u001b[0m",
      "\u001b[0;31mNameError\u001b[0m                                 Traceback (most recent call last)",
      "Cell \u001b[0;32mIn[28], line 1\u001b[0m\n\u001b[0;32m----> 1\u001b[0m sns\u001b[39m.\u001b[39mset_theme()\n\u001b[1;32m      2\u001b[0m sns\u001b[39m.\u001b[39mset_style(\u001b[39m\"\u001b[39m\u001b[39mwhitegrid\u001b[39m\u001b[39m\"\u001b[39m)\n\u001b[1;32m      3\u001b[0m plt\u001b[39m.\u001b[39mrc(\u001b[39m'\u001b[39m\u001b[39mfont\u001b[39m\u001b[39m'\u001b[39m, family\u001b[39m=\u001b[39m\u001b[39m'\u001b[39m\u001b[39mserif\u001b[39m\u001b[39m'\u001b[39m)\n",
      "\u001b[0;31mNameError\u001b[0m: name 'sns' is not defined"
     ]
    }
   ],
   "source": [
    "sns.set_theme()\n",
    "sns.set_style(\"whitegrid\")\n",
    "plt.rc('font', family='serif')\n",
    "plt.rc('xtick', labelsize='small')\n",
    "plt.rc('ytick', labelsize='small')\n",
    "\n",
    "g = sns.relplot(data=dfd, x=\"train_exc_limit\", y=metric, hue='arch_pret', kind=\"line\", palette=\"bright\", col=\"mode\", row=\"dataset\", \n",
    "            height=5, aspect=1.5, legend=True, facet_kws={\"despine\": False})\n",
    "\n",
    "g.set_ylabels(\"Test Accuracy Change (Abs %)\")\n",
    "g.set_xlabels(\"Samples per class\");\n",
    "\n",
    "g.savefig(\"figures/pret_change.pdf\", bbox_inches='tight')\n"
   ]
  },
  {
   "attachments": {},
   "cell_type": "markdown",
   "metadata": {},
   "source": [
    "# DF vs GF figure"
   ]
  },
  {
   "cell_type": "code",
   "execution_count": 29,
   "metadata": {},
   "outputs": [],
   "source": [
    "from s3ts.data.acquisition import download_dataset\n",
    "from s3ts.data.setup import train_test_splits\n",
    "from s3ts.data.setup import setup_train_dm \n",
    "from pathlib import Path\n",
    "\n",
    "# dataset settings\n",
    "dataset         = \"GunPoint\"\n",
    "storage_dir     = Path(\"storage\")\n",
    "cv_rep          = 0\n",
    "exc             = 32\n",
    "random_state    = 0\n",
    "rho_dfs         = 0.1\n",
    "\n",
    "X, Y, medoids, medoid_idx = download_dataset(dataset=dataset, storage_dir=storage_dir)\n",
    "for j, (train_idx, test_idx) in enumerate(train_test_splits(X, Y, exc=exc, nreps=cv_rep+1, random_state=random_state)):\n",
    "            if j == cv_rep:\n",
    "                break\n",
    "\n",
    "# sts settings\n",
    "train_strat_size = 2\n",
    "train_event_mult = 4\n",
    "test_sts_length = 200\n",
    "train_event_limit = exc\n",
    "batch_size = 128\n",
    "\n",
    "dm_df = setup_train_dm(X=X, Y=Y, patterns=medoids, train_idx=train_idx, test_idx=test_idx,\n",
    "    test_sts_length=200, train_event_mult=4, train_strat_size=2, train_event_limit=exc,\n",
    "    batch_size=128, val_size=0.25, rho_dfs=rho_dfs, window_length=10, mode=\"df\", num_workers=4,\n",
    "    window_time_stride=7, window_patt_stride=1,stride_series=False, random_state=random_state)\n",
    "\n",
    "dm_gf = setup_train_dm(X=X, Y=Y, patterns=medoids, train_idx=train_idx, test_idx=test_idx,\n",
    "    test_sts_length=200, train_event_mult=4, train_strat_size=2, train_event_limit=exc,\n",
    "    batch_size=128, val_size=0.25, rho_dfs=rho_dfs, window_length=10, mode=\"gf\", num_workers=4,\n",
    "    window_time_stride=7, window_patt_stride=1,stride_series=False, random_state=random_state)"
   ]
  },
  {
   "cell_type": "code",
   "execution_count": 30,
   "metadata": {},
   "outputs": [
    {
     "ename": "NameError",
     "evalue": "name 'plt' is not defined",
     "output_type": "error",
     "traceback": [
      "\u001b[0;31m---------------------------------------------------------------------------\u001b[0m",
      "\u001b[0;31mNameError\u001b[0m                                 Traceback (most recent call last)",
      "Cell \u001b[0;32mIn[30], line 9\u001b[0m\n\u001b[1;32m      6\u001b[0m ts_color \u001b[39m=\u001b[39m \u001b[39m\"\u001b[39m\u001b[39mdarkslategray\u001b[39m\u001b[39m\"\u001b[39m\n\u001b[1;32m      7\u001b[0m cmaps \u001b[39m=\u001b[39m [\u001b[39m\"\u001b[39m\u001b[39mseismic\u001b[39m\u001b[39m\"\u001b[39m, \u001b[39m\"\u001b[39m\u001b[39mseismic\u001b[39m\u001b[39m\"\u001b[39m]\n\u001b[0;32m----> 9\u001b[0m plt\u001b[39m.\u001b[39mrc(\u001b[39m'\u001b[39m\u001b[39mfont\u001b[39m\u001b[39m'\u001b[39m, family\u001b[39m=\u001b[39m\u001b[39m'\u001b[39m\u001b[39mserif\u001b[39m\u001b[39m'\u001b[39m)\n\u001b[1;32m     10\u001b[0m plt\u001b[39m.\u001b[39mrc(\u001b[39m'\u001b[39m\u001b[39mxtick\u001b[39m\u001b[39m'\u001b[39m, labelsize\u001b[39m=\u001b[39m\u001b[39m'\u001b[39m\u001b[39msmall\u001b[39m\u001b[39m'\u001b[39m)\n\u001b[1;32m     11\u001b[0m plt\u001b[39m.\u001b[39mrc(\u001b[39m'\u001b[39m\u001b[39mytick\u001b[39m\u001b[39m'\u001b[39m, labelsize\u001b[39m=\u001b[39m\u001b[39m'\u001b[39m\u001b[39msmall\u001b[39m\u001b[39m'\u001b[39m)\n",
      "\u001b[0;31mNameError\u001b[0m: name 'plt' is not defined"
     ]
    }
   ],
   "source": [
    "\n",
    "# plot settings\n",
    "shift, n_frames = 0, 6\n",
    "vmin, vmax = -2.5, 2.5\n",
    "print_lines = False\n",
    "fontsize = 18\n",
    "ts_color = \"darkslategray\"\n",
    "cmaps = [\"seismic\", \"seismic\"]\n",
    "\n",
    "plt.rc('font', family='serif')\n",
    "plt.rc('xtick', labelsize='small')\n",
    "plt.rc('ytick', labelsize='small')\n",
    "\n",
    "\n",
    "n_patterns = dm_df.n_patterns\n",
    "sts_range = (dm_df.l_events*shift, dm_df.l_events*shift + dm_df.l_events*n_frames)\n",
    "\n",
    "patts = dm_df.patterns.numpy()\n",
    "TS = dm_df.STS_train[sts_range[0]:sts_range[1]]\n",
    "DF = dm_df.DM_train[:,:,sts_range[0]:sts_range[1]]\n",
    "GF = dm_gf.DM_train[:,:,sts_range[0]:sts_range[1]]\n",
    "\n",
    "fig = plt.figure(figsize=(12, 1.5+n_patterns*1.5), dpi=100, layout=\"constrained\")\n",
    "gs = fig.add_gridspec(nrows=n_patterns+1, ncols=3,\n",
    "        hspace=0, height_ratios=None,\n",
    "        wspace=0, width_ratios=[0.1, 0.45, 0.45])\n",
    "\n",
    "\n",
    "vlines = np.where(np.mod(np.arange(sts_range[0], sts_range[1]), dm_df.l_events) == 0)[0]\n",
    "\n",
    "corner = fig.add_subplot(gs[0,0])\n",
    "corner.set_xticklabels([]), corner.set_yticklabels([])\n",
    "corner.set_xticks([]), corner.set_yticks([])\n",
    "corner.text(0.95, 0.5, \"STS\", fontsize=fontsize, rotation=90, ha=\"center\", va=\"center\")\n",
    "corner.text(0.5, 0.05, \"Patterns\", fontsize=fontsize, ha=\"center\", va=\"center\")\n",
    "corner.spines['top'].set_visible(False)\n",
    "corner.spines['right'].set_visible(False)\n",
    "corner.spines['bottom'].set_visible(False)\n",
    "corner.spines['left'].set_visible(False)\n",
    "\n",
    "\n",
    "sts_ax1 = fig.add_subplot(gs[0,1])\n",
    "sts_ax1.plot(np.arange(sts_range[0], sts_range[1]), TS, color=ts_color)\n",
    "sts_ax1.set_xlim(sts_range[0], sts_range[1]-1)\n",
    "sts_ax1.set_xticklabels([]), sts_ax1.set_yticklabels([])\n",
    "sts_ax1.set_xticks([]), sts_ax1.set_yticks([])\n",
    "if print_lines:\n",
    "        [sts_ax1.axvline(x + sts_range[0], color=\"dimgray\", linewidth=0.5) for x in vlines]\n",
    "sts_ax1.grid(True)\n",
    "\n",
    "\n",
    "sts_ax2 = fig.add_subplot(gs[0,2])\n",
    "sts_ax2.plot(np.arange(sts_range[0], sts_range[1]), TS, color=ts_color)\n",
    "sts_ax2.set_xlim(sts_range[0], sts_range[1]-1)\n",
    "sts_ax2.set_xticklabels([]), sts_ax2.set_yticklabels([])\n",
    "sts_ax2.set_xticks([]), sts_ax2.set_yticks([])\n",
    "if print_lines:\n",
    "        [sts_ax2.axvline(x + sts_range[0], color=\"dimgray\", linewidth=0.5) for x in vlines]\n",
    "sts_ax1.grid(True)\n",
    "\n",
    "\n",
    "for p in range(n_patterns):\n",
    "\n",
    "        # patt plot\n",
    "        patt_ax = fig.add_subplot(gs[p+1,0])\n",
    "        patt_ax.plot(patts[p,::-1], np.arange(len(patts[0])), color=ts_color)\n",
    "        patt_ax.set_yticklabels([]), patt_ax.set_xticklabels([])\n",
    "        patt_ax.set_yticks([]), patt_ax.set_xticks([])\n",
    "        patt_ax.invert_xaxis(), patt_ax.grid(True)\n",
    "\n",
    "        # # image plot\n",
    "        # im_ax = fig.add_subplot(gs[p+1,1])     \n",
    "        # gf = GF[p,:,sts_range[0]:sts_range[1]-(sts_range[1]-sts_range[0])//2]   \n",
    "        # df = DF[p,:,sts_range[1]-(sts_range[1]-sts_range[0])//2:sts_range[1]]\n",
    "        # gf = 2*(gf-gf.mean())/gf.std()\n",
    "        # df = 2*(df-df.mean())/df.std()\n",
    "        # im = np.concatenate([gf, df], axis=1)\n",
    "        # im_ax.imshow(im, aspect=\"auto\", cmap=\"seismic\", vmin=-2, vmax=2)\n",
    "        # im_ax.set_yticklabels([]), im_ax.set_xticklabels([])\n",
    "        # im_ax.set_xticks([]), im_ax.set_yticks([])\n",
    "        \n",
    "        #[im_ax.axvline(x, color=\"white\") for x in vlines]\n",
    "\n",
    "        # df plot\n",
    "        df_ax = fig.add_subplot(gs[p+1,1])        \n",
    "        df_im = DF[p,:,sts_range[0]:sts_range[1]]\n",
    "        df_im = 2*(df_im-df_im.mean())/df_im.std()\n",
    "        df_ax.imshow(df_im, aspect=\"auto\", cmap=cmaps[0], vmin=vmin, vmax=vmax)\n",
    "        df_ax.set_yticklabels([]), df_ax.set_xticklabels([])\n",
    "        df_ax.set_xticks([]), df_ax.set_yticks([])\n",
    "        #df_vlines = np.where(np.mod(np.arange(sts_range[0], sts_range[1]-(sts_range[1]-sts_range[0])//2), dm_df.l_events) == 0)[0]\n",
    "        #[df_ax.axvline(x, color=\"dimgray\") for x in df_vlines]\n",
    "\n",
    "        # gf plot\n",
    "        gf_ax = fig.add_subplot(gs[p+1,2])\n",
    "        gf_im = GF[p,:,sts_range[0]:sts_range[1]]\n",
    "        gf_im = 2*(gf_im-gf_im.mean())/gf_im.std()\n",
    "        gf_ax.imshow(gf_im, aspect=\"auto\", cmap=cmaps[1], vmin=vmin, vmax=vmax)\n",
    "        gf_ax.set_yticklabels([]), gf_ax.set_xticklabels([])\n",
    "        gf_ax.set_xticks([]), gf_ax.set_yticks([])\n",
    "        #gf_vlines = np.where(np.mod(np.arange(sts_range[1]-(sts_range[1]-sts_range[0])//2, sts_range[1]), dm_df.l_events) == 0)[0]\n",
    "        #[gf_ax.axvline(x, color=\"dimgray\") for x in gf_vlines]\n",
    "\n",
    "        patt_ax.set_ylabel(\"Class {}\".format(p+1), fontsize=fontsize)\n",
    "\n",
    "        if p == n_patterns-1:\n",
    "                df_ax.set_xlabel(\"DF Representation\", fontsize=fontsize)\n",
    "                gf_ax.set_xlabel(\"GAF Representation\", fontsize=fontsize)\n",
    "\n",
    "plt.savefig(f\"figures/df_gf_{dataset}.pdf\", bbox_inches=\"tight\")"
   ]
  },
  {
   "cell_type": "code",
   "execution_count": null,
   "metadata": {},
   "outputs": [],
   "source": []
  }
 ],
 "metadata": {
  "kernelspec": {
   "display_name": "s3ts_env",
   "language": "python",
   "name": "python3"
  },
  "language_info": {
   "codemirror_mode": {
    "name": "ipython",
    "version": 3
   },
   "file_extension": ".py",
   "mimetype": "text/x-python",
   "name": "python",
   "nbconvert_exporter": "python",
   "pygments_lexer": "ipython3",
   "version": "3.10.6"
  },
  "orig_nbformat": 4,
  "vscode": {
   "interpreter": {
    "hash": "6e1d0eb0d169c6f4f1f78c290df349cf7be44622c6553e913fbf1edf3b266a4d"
   }
  }
 },
 "nbformat": 4,
 "nbformat_minor": 2
}
