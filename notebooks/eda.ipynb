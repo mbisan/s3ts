{
 "cells": [
  {
   "cell_type": "code",
   "execution_count": null,
   "metadata": {},
   "outputs": [],
   "source": [
    "from s3ts.data.tasks.download import download_dataset"
   ]
  },
  {
   "cell_type": "code",
   "execution_count": null,
   "metadata": {},
   "outputs": [],
   "source": [
    "  X, Y, mapping = download_dataset(dataset_name=dataset)\n",
    "\n",
    "train_dm, _ = prepare_dms(dataset=,\n",
    "    X_train=X_train, X_test=X_test, Y_train=Y_train, Y_test=Y_test,\n",
    "    batch_size=batch_size, window_size=window_size, \n",
    "    rho_dfs=rho_dfs, pret_frac=pret_frac, \n",
    "    quant_shifts=[0], quant_intervals=5,\n",
    "    fold_number=99, random_state=, \n",
    "    frames=arch.__frames__(), dir_cache=dir_cache)"
   ]
  }
 ],
 "metadata": {
  "language_info": {
   "name": "python"
  },
  "orig_nbformat": 4
 },
 "nbformat": 4,
 "nbformat_minor": 2
}
