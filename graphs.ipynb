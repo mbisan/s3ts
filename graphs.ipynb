{
 "cells": [
  {
   "cell_type": "code",
   "execution_count": 46,
   "metadata": {},
   "outputs": [],
   "source": [
    "import pandas as pd"
   ]
  },
  {
   "cell_type": "code",
   "execution_count": 52,
   "metadata": {},
   "outputs": [
    {
     "data": {
      "text/html": [
       "<div>\n",
       "<style scoped>\n",
       "    .dataframe tbody tr th:only-of-type {\n",
       "        vertical-align: middle;\n",
       "    }\n",
       "\n",
       "    .dataframe tbody tr th {\n",
       "        vertical-align: top;\n",
       "    }\n",
       "\n",
       "    .dataframe thead th {\n",
       "        text-align: right;\n",
       "    }\n",
       "</style>\n",
       "<table border=\"1\" class=\"dataframe\">\n",
       "  <thead>\n",
       "    <tr style=\"text-align: right;\">\n",
       "      <th></th>\n",
       "      <th>dataset</th>\n",
       "      <th>fold_number</th>\n",
       "      <th>decoder</th>\n",
       "      <th>seed_sts</th>\n",
       "      <th>seed_label</th>\n",
       "      <th>batch_size</th>\n",
       "      <th>window_size</th>\n",
       "      <th>lab_shifts</th>\n",
       "      <th>nframes_tra</th>\n",
       "      <th>nframes_pre</th>\n",
       "      <th>...</th>\n",
       "      <th>aux_nepochs</th>\n",
       "      <th>pre_val_acc</th>\n",
       "      <th>pre_val_f1</th>\n",
       "      <th>pre_val_auroc</th>\n",
       "      <th>pre_test_acc</th>\n",
       "      <th>pre_test_f1</th>\n",
       "      <th>pre_test_auroc</th>\n",
       "      <th>pre_best_model</th>\n",
       "      <th>pre_train_csv</th>\n",
       "      <th>pre_nepochs</th>\n",
       "    </tr>\n",
       "  </thead>\n",
       "  <tbody>\n",
       "    <tr>\n",
       "      <th>0</th>\n",
       "      <td>GunPoint</td>\n",
       "      <td>0</td>\n",
       "      <td>CNN_Encoder</td>\n",
       "      <td>0</td>\n",
       "      <td>0</td>\n",
       "      <td>128</td>\n",
       "      <td>5</td>\n",
       "      <td>0</td>\n",
       "      <td>5000</td>\n",
       "      <td>5000</td>\n",
       "      <td>...</td>\n",
       "      <td>5</td>\n",
       "      <td>0.549658</td>\n",
       "      <td>0.549658</td>\n",
       "      <td>0.457146</td>\n",
       "      <td>0.538014</td>\n",
       "      <td>0.538014</td>\n",
       "      <td>0.527088</td>\n",
       "      <td>training/auto/0_0_2023-01-30_16-46/logs/pre/ch...</td>\n",
       "      <td>training/auto/0_0_2023-01-30_16-46/logs/pre/me...</td>\n",
       "      <td>5</td>\n",
       "    </tr>\n",
       "  </tbody>\n",
       "</table>\n",
       "<p>1 rows × 34 columns</p>\n",
       "</div>"
      ],
      "text/plain": [
       "    dataset  fold_number      decoder  seed_sts  seed_label  batch_size  \\\n",
       "0  GunPoint            0  CNN_Encoder         0           0         128   \n",
       "\n",
       "   window_size lab_shifts  nframes_tra  nframes_pre  ...  aux_nepochs  \\\n",
       "0            5          0         5000         5000  ...            5   \n",
       "\n",
       "   pre_val_acc  pre_val_f1  pre_val_auroc  pre_test_acc  pre_test_f1  \\\n",
       "0     0.549658    0.549658       0.457146      0.538014     0.538014   \n",
       "\n",
       "   pre_test_auroc                                     pre_best_model  \\\n",
       "0        0.527088  training/auto/0_0_2023-01-30_16-46/logs/pre/ch...   \n",
       "\n",
       "                                       pre_train_csv  pre_nepochs  \n",
       "0  training/auto/0_0_2023-01-30_16-46/logs/pre/me...            5  \n",
       "\n",
       "[1 rows x 34 columns]"
      ]
     },
     "execution_count": 52,
     "metadata": {},
     "output_type": "execute_result"
    }
   ],
   "source": [
    "df = pd.read_csv(\"results.csv\")\n",
    "df[\"lab_shifts\"] = df[\"lab_shifts\"].str.slice(start=1,stop=-1).astype(\"category\")\n",
    "df"
   ]
  },
  {
   "cell_type": "code",
   "execution_count": 50,
   "metadata": {},
   "outputs": [
    {
     "data": {
      "text/html": [
       "<div>\n",
       "<style scoped>\n",
       "    .dataframe tbody tr th:only-of-type {\n",
       "        vertical-align: middle;\n",
       "    }\n",
       "\n",
       "    .dataframe tbody tr th {\n",
       "        vertical-align: top;\n",
       "    }\n",
       "\n",
       "    .dataframe thead th {\n",
       "        text-align: right;\n",
       "    }\n",
       "</style>\n",
       "<table border=\"1\" class=\"dataframe\">\n",
       "  <thead>\n",
       "    <tr style=\"text-align: right;\">\n",
       "      <th></th>\n",
       "      <th>def_val_f1</th>\n",
       "      <th>pre_val_f1</th>\n",
       "    </tr>\n",
       "    <tr>\n",
       "      <th>lab_shifts</th>\n",
       "      <th></th>\n",
       "      <th></th>\n",
       "    </tr>\n",
       "  </thead>\n",
       "  <tbody>\n",
       "    <tr>\n",
       "      <th>0</th>\n",
       "      <td>0.595034</td>\n",
       "      <td>0.611016</td>\n",
       "    </tr>\n",
       "    <tr>\n",
       "      <th>0.15</th>\n",
       "      <td>0.595034</td>\n",
       "      <td>0.610731</td>\n",
       "    </tr>\n",
       "    <tr>\n",
       "      <th>0.3</th>\n",
       "      <td>0.599315</td>\n",
       "      <td>0.609018</td>\n",
       "    </tr>\n",
       "  </tbody>\n",
       "</table>\n",
       "</div>"
      ],
      "text/plain": [
       "            def_val_f1  pre_val_f1\n",
       "lab_shifts                        \n",
       "0             0.595034    0.611016\n",
       "0.15          0.595034    0.610731\n",
       "0.3           0.599315    0.609018"
      ]
     },
     "execution_count": 50,
     "metadata": {},
     "output_type": "execute_result"
    }
   ],
   "source": [
    "df.groupby(\"lab_shifts\")[[\"def_val_f1\", \"pre_val_f1\"]].mean()"
   ]
  },
  {
   "cell_type": "code",
   "execution_count": 44,
   "metadata": {},
   "outputs": [
    {
     "data": {
      "text/plain": [
       "5"
      ]
     },
     "execution_count": 44,
     "metadata": {},
     "output_type": "execute_result"
    }
   ],
   "source": [
    "df = pd.read_csv(\"training/auto/0_0_2023-01-30_16-30/logs/pretrain/metrics.csv\")\n",
    "df[\"epoch_train_acc\"].count()"
   ]
  },
  {
   "cell_type": "code",
   "execution_count": null,
   "metadata": {},
   "outputs": [],
   "source": []
  }
 ],
 "metadata": {
  "kernelspec": {
   "display_name": "s3ts_env",
   "language": "python",
   "name": "python3"
  },
  "language_info": {
   "codemirror_mode": {
    "name": "ipython",
    "version": 3
   },
   "file_extension": ".py",
   "mimetype": "text/x-python",
   "name": "python",
   "nbconvert_exporter": "python",
   "pygments_lexer": "ipython3",
   "version": "3.10.7"
  },
  "orig_nbformat": 4,
  "vscode": {
   "interpreter": {
    "hash": "8af3ea60d46e37762abd15355a7beee287757cd1a27d1b3bb6728aeaaf1fab93"
   }
  }
 },
 "nbformat": 4,
 "nbformat_minor": 2
}
